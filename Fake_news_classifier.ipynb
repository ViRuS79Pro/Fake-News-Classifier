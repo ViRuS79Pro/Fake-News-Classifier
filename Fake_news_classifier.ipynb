{
  "cells": [
    {
      "cell_type": "code",
      "execution_count": 19,
      "metadata": {
        "_cell_guid": "b1076dfc-b9ad-4769-8c92-a6c4dae69d19",
        "_uuid": "8f2839f25d086af736a60e9eeb907d3b93b6e0e5",
        "execution": {
          "iopub.execute_input": "2020-10-22T13:18:52.957659Z",
          "iopub.status.busy": "2020-10-22T13:18:52.956657Z",
          "iopub.status.idle": "2020-10-22T13:18:56.383792Z",
          "shell.execute_reply": "2020-10-22T13:18:56.384536Z"
        },
        "papermill": {
          "duration": 3.482423,
          "end_time": "2020-10-22T13:18:56.384824",
          "exception": false,
          "start_time": "2020-10-22T13:18:52.902401",
          "status": "completed"
        },
        "tags": [],
        "colab": {
          "base_uri": "https://localhost:8080/"
        },
        "id": "oRTk1aiKhts3",
        "outputId": "d8766414-cf94-48b4-b855-8d6096bdba55"
      },
      "outputs": [
        {
          "output_type": "stream",
          "name": "stderr",
          "text": [
            "[nltk_data] Downloading package punkt to /root/nltk_data...\n",
            "[nltk_data]   Unzipping tokenizers/punkt.zip.\n"
          ]
        }
      ],
      "source": [
        "import numpy as np\n",
        "import pandas as pd\n",
        "import re\n",
        "import nltk\n",
        "import nltk\n",
        "from sklearn.feature_extraction.text import CountVectorizer\n",
        "import torch\n",
        "import torch.nn as nn\n",
        "import matplotlib.pyplot as plt\n",
        "import seaborn as sns\n",
        "from sklearn.model_selection import train_test_split"
      ]
    },
    {
      "cell_type": "code",
      "execution_count": 20,
      "metadata": {
        "_cell_guid": "79c7e3d0-c299-4dcb-8224-4455121ee9b0",
        "_uuid": "d629ff2d2480ee46fbb7e2d37f6b5fab8052498a",
        "execution": {
          "iopub.execute_input": "2020-10-22T13:18:56.467420Z",
          "iopub.status.busy": "2020-10-22T13:18:56.466572Z",
          "iopub.status.idle": "2020-10-22T13:18:58.610018Z",
          "shell.execute_reply": "2020-10-22T13:18:58.610787Z"
        },
        "papermill": {
          "duration": 2.192219,
          "end_time": "2020-10-22T13:18:58.611020",
          "exception": false,
          "start_time": "2020-10-22T13:18:56.418801",
          "status": "completed"
        },
        "tags": [],
        "id": "ptP4j7-Chts5"
      },
      "outputs": [],
      "source": [
        "true_data = pd.read_csv('/content/True.csv')\n",
        "fake_data = pd.read_csv('/content/Fake.csv')"
      ]
    },
    {
      "cell_type": "code",
      "execution_count": 21,
      "metadata": {
        "execution": {
          "iopub.execute_input": "2020-10-22T13:18:58.760830Z",
          "iopub.status.busy": "2020-10-22T13:18:58.760018Z",
          "iopub.status.idle": "2020-10-22T13:18:58.775473Z",
          "shell.execute_reply": "2020-10-22T13:18:58.776551Z"
        },
        "papermill": {
          "duration": 0.069206,
          "end_time": "2020-10-22T13:18:58.776864",
          "exception": false,
          "start_time": "2020-10-22T13:18:58.707658",
          "status": "completed"
        },
        "tags": [],
        "colab": {
          "base_uri": "https://localhost:8080/"
        },
        "id": "WMrYrPouhts6",
        "outputId": "07d276da-edab-4d64-ced2-c4038e3f15f5"
      },
      "outputs": [
        {
          "output_type": "stream",
          "name": "stdout",
          "text": [
            "<class 'pandas.core.frame.DataFrame'>\n",
            "RangeIndex: 21417 entries, 0 to 21416\n",
            "Data columns (total 4 columns):\n",
            " #   Column   Non-Null Count  Dtype \n",
            "---  ------   --------------  ----- \n",
            " 0   title    21417 non-null  object\n",
            " 1   text     21417 non-null  object\n",
            " 2   subject  21417 non-null  object\n",
            " 3   date     21417 non-null  object\n",
            "dtypes: object(4)\n",
            "memory usage: 669.4+ KB\n"
          ]
        }
      ],
      "source": [
        "true_data.info()"
      ]
    },
    {
      "cell_type": "code",
      "execution_count": 22,
      "metadata": {
        "execution": {
          "iopub.execute_input": "2020-10-22T13:18:58.867126Z",
          "iopub.status.busy": "2020-10-22T13:18:58.865863Z",
          "iopub.status.idle": "2020-10-22T13:18:58.884293Z",
          "shell.execute_reply": "2020-10-22T13:18:58.883606Z"
        },
        "papermill": {
          "duration": 0.073069,
          "end_time": "2020-10-22T13:18:58.884444",
          "exception": false,
          "start_time": "2020-10-22T13:18:58.811375",
          "status": "completed"
        },
        "tags": [],
        "colab": {
          "base_uri": "https://localhost:8080/"
        },
        "id": "ZJLVEd33hts6",
        "outputId": "70ac39e3-cf6e-4f4c-ce4f-fc8c99474916"
      },
      "outputs": [
        {
          "output_type": "stream",
          "name": "stdout",
          "text": [
            "<class 'pandas.core.frame.DataFrame'>\n",
            "RangeIndex: 23481 entries, 0 to 23480\n",
            "Data columns (total 4 columns):\n",
            " #   Column   Non-Null Count  Dtype \n",
            "---  ------   --------------  ----- \n",
            " 0   title    23481 non-null  object\n",
            " 1   text     23481 non-null  object\n",
            " 2   subject  23481 non-null  object\n",
            " 3   date     23481 non-null  object\n",
            "dtypes: object(4)\n",
            "memory usage: 733.9+ KB\n"
          ]
        }
      ],
      "source": [
        "fake_data.info()"
      ]
    },
    {
      "cell_type": "code",
      "execution_count": 23,
      "metadata": {
        "execution": {
          "iopub.execute_input": "2020-10-22T13:18:58.973045Z",
          "iopub.status.busy": "2020-10-22T13:18:58.971810Z",
          "iopub.status.idle": "2020-10-22T13:18:58.985725Z",
          "shell.execute_reply": "2020-10-22T13:18:58.984954Z"
        },
        "papermill": {
          "duration": 0.067034,
          "end_time": "2020-10-22T13:18:58.985878",
          "exception": false,
          "start_time": "2020-10-22T13:18:58.918844",
          "status": "completed"
        },
        "tags": [],
        "colab": {
          "base_uri": "https://localhost:8080/",
          "height": 206
        },
        "id": "VD0cJcXPhts6",
        "outputId": "aea18c8a-1f7a-4e76-d42b-e7420d3d03e5"
      },
      "outputs": [
        {
          "output_type": "execute_result",
          "data": {
            "text/plain": [
              "                                               title  \\\n",
              "0  As U.S. budget fight looms, Republicans flip t...   \n",
              "1  U.S. military to accept transgender recruits o...   \n",
              "2  Senior U.S. Republican senator: 'Let Mr. Muell...   \n",
              "3  FBI Russia probe helped by Australian diplomat...   \n",
              "4  Trump wants Postal Service to charge 'much mor...   \n",
              "\n",
              "                                                text       subject  \\\n",
              "0  WASHINGTON (Reuters) - The head of a conservat...  politicsNews   \n",
              "1  WASHINGTON (Reuters) - Transgender people will...  politicsNews   \n",
              "2  WASHINGTON (Reuters) - The special counsel inv...  politicsNews   \n",
              "3  WASHINGTON (Reuters) - Trump campaign adviser ...  politicsNews   \n",
              "4  SEATTLE/WASHINGTON (Reuters) - President Donal...  politicsNews   \n",
              "\n",
              "                 date  label  \n",
              "0  December 31, 2017       1  \n",
              "1  December 29, 2017       1  \n",
              "2  December 31, 2017       1  \n",
              "3  December 30, 2017       1  \n",
              "4  December 29, 2017       1  "
            ],
            "text/html": [
              "\n",
              "  <div id=\"df-b7b54a76-933c-4af4-aeb9-2b20124a7833\" class=\"colab-df-container\">\n",
              "    <div>\n",
              "<style scoped>\n",
              "    .dataframe tbody tr th:only-of-type {\n",
              "        vertical-align: middle;\n",
              "    }\n",
              "\n",
              "    .dataframe tbody tr th {\n",
              "        vertical-align: top;\n",
              "    }\n",
              "\n",
              "    .dataframe thead th {\n",
              "        text-align: right;\n",
              "    }\n",
              "</style>\n",
              "<table border=\"1\" class=\"dataframe\">\n",
              "  <thead>\n",
              "    <tr style=\"text-align: right;\">\n",
              "      <th></th>\n",
              "      <th>title</th>\n",
              "      <th>text</th>\n",
              "      <th>subject</th>\n",
              "      <th>date</th>\n",
              "      <th>label</th>\n",
              "    </tr>\n",
              "  </thead>\n",
              "  <tbody>\n",
              "    <tr>\n",
              "      <th>0</th>\n",
              "      <td>As U.S. budget fight looms, Republicans flip t...</td>\n",
              "      <td>WASHINGTON (Reuters) - The head of a conservat...</td>\n",
              "      <td>politicsNews</td>\n",
              "      <td>December 31, 2017</td>\n",
              "      <td>1</td>\n",
              "    </tr>\n",
              "    <tr>\n",
              "      <th>1</th>\n",
              "      <td>U.S. military to accept transgender recruits o...</td>\n",
              "      <td>WASHINGTON (Reuters) - Transgender people will...</td>\n",
              "      <td>politicsNews</td>\n",
              "      <td>December 29, 2017</td>\n",
              "      <td>1</td>\n",
              "    </tr>\n",
              "    <tr>\n",
              "      <th>2</th>\n",
              "      <td>Senior U.S. Republican senator: 'Let Mr. Muell...</td>\n",
              "      <td>WASHINGTON (Reuters) - The special counsel inv...</td>\n",
              "      <td>politicsNews</td>\n",
              "      <td>December 31, 2017</td>\n",
              "      <td>1</td>\n",
              "    </tr>\n",
              "    <tr>\n",
              "      <th>3</th>\n",
              "      <td>FBI Russia probe helped by Australian diplomat...</td>\n",
              "      <td>WASHINGTON (Reuters) - Trump campaign adviser ...</td>\n",
              "      <td>politicsNews</td>\n",
              "      <td>December 30, 2017</td>\n",
              "      <td>1</td>\n",
              "    </tr>\n",
              "    <tr>\n",
              "      <th>4</th>\n",
              "      <td>Trump wants Postal Service to charge 'much mor...</td>\n",
              "      <td>SEATTLE/WASHINGTON (Reuters) - President Donal...</td>\n",
              "      <td>politicsNews</td>\n",
              "      <td>December 29, 2017</td>\n",
              "      <td>1</td>\n",
              "    </tr>\n",
              "  </tbody>\n",
              "</table>\n",
              "</div>\n",
              "    <div class=\"colab-df-buttons\">\n",
              "\n",
              "  <div class=\"colab-df-container\">\n",
              "    <button class=\"colab-df-convert\" onclick=\"convertToInteractive('df-b7b54a76-933c-4af4-aeb9-2b20124a7833')\"\n",
              "            title=\"Convert this dataframe to an interactive table.\"\n",
              "            style=\"display:none;\">\n",
              "\n",
              "  <svg xmlns=\"http://www.w3.org/2000/svg\" height=\"24px\" viewBox=\"0 -960 960 960\">\n",
              "    <path d=\"M120-120v-720h720v720H120Zm60-500h600v-160H180v160Zm220 220h160v-160H400v160Zm0 220h160v-160H400v160ZM180-400h160v-160H180v160Zm440 0h160v-160H620v160ZM180-180h160v-160H180v160Zm440 0h160v-160H620v160Z\"/>\n",
              "  </svg>\n",
              "    </button>\n",
              "\n",
              "  <style>\n",
              "    .colab-df-container {\n",
              "      display:flex;\n",
              "      gap: 12px;\n",
              "    }\n",
              "\n",
              "    .colab-df-convert {\n",
              "      background-color: #E8F0FE;\n",
              "      border: none;\n",
              "      border-radius: 50%;\n",
              "      cursor: pointer;\n",
              "      display: none;\n",
              "      fill: #1967D2;\n",
              "      height: 32px;\n",
              "      padding: 0 0 0 0;\n",
              "      width: 32px;\n",
              "    }\n",
              "\n",
              "    .colab-df-convert:hover {\n",
              "      background-color: #E2EBFA;\n",
              "      box-shadow: 0px 1px 2px rgba(60, 64, 67, 0.3), 0px 1px 3px 1px rgba(60, 64, 67, 0.15);\n",
              "      fill: #174EA6;\n",
              "    }\n",
              "\n",
              "    .colab-df-buttons div {\n",
              "      margin-bottom: 4px;\n",
              "    }\n",
              "\n",
              "    [theme=dark] .colab-df-convert {\n",
              "      background-color: #3B4455;\n",
              "      fill: #D2E3FC;\n",
              "    }\n",
              "\n",
              "    [theme=dark] .colab-df-convert:hover {\n",
              "      background-color: #434B5C;\n",
              "      box-shadow: 0px 1px 3px 1px rgba(0, 0, 0, 0.15);\n",
              "      filter: drop-shadow(0px 1px 2px rgba(0, 0, 0, 0.3));\n",
              "      fill: #FFFFFF;\n",
              "    }\n",
              "  </style>\n",
              "\n",
              "    <script>\n",
              "      const buttonEl =\n",
              "        document.querySelector('#df-b7b54a76-933c-4af4-aeb9-2b20124a7833 button.colab-df-convert');\n",
              "      buttonEl.style.display =\n",
              "        google.colab.kernel.accessAllowed ? 'block' : 'none';\n",
              "\n",
              "      async function convertToInteractive(key) {\n",
              "        const element = document.querySelector('#df-b7b54a76-933c-4af4-aeb9-2b20124a7833');\n",
              "        const dataTable =\n",
              "          await google.colab.kernel.invokeFunction('convertToInteractive',\n",
              "                                                    [key], {});\n",
              "        if (!dataTable) return;\n",
              "\n",
              "        const docLinkHtml = 'Like what you see? Visit the ' +\n",
              "          '<a target=\"_blank\" href=https://colab.research.google.com/notebooks/data_table.ipynb>data table notebook</a>'\n",
              "          + ' to learn more about interactive tables.';\n",
              "        element.innerHTML = '';\n",
              "        dataTable['output_type'] = 'display_data';\n",
              "        await google.colab.output.renderOutput(dataTable, element);\n",
              "        const docLink = document.createElement('div');\n",
              "        docLink.innerHTML = docLinkHtml;\n",
              "        element.appendChild(docLink);\n",
              "      }\n",
              "    </script>\n",
              "  </div>\n",
              "\n",
              "\n",
              "    <div id=\"df-0cef9226-a882-4f30-ab27-c098a9100de1\">\n",
              "      <button class=\"colab-df-quickchart\" onclick=\"quickchart('df-0cef9226-a882-4f30-ab27-c098a9100de1')\"\n",
              "                title=\"Suggest charts\"\n",
              "                style=\"display:none;\">\n",
              "\n",
              "<svg xmlns=\"http://www.w3.org/2000/svg\" height=\"24px\"viewBox=\"0 0 24 24\"\n",
              "     width=\"24px\">\n",
              "    <g>\n",
              "        <path d=\"M19 3H5c-1.1 0-2 .9-2 2v14c0 1.1.9 2 2 2h14c1.1 0 2-.9 2-2V5c0-1.1-.9-2-2-2zM9 17H7v-7h2v7zm4 0h-2V7h2v10zm4 0h-2v-4h2v4z\"/>\n",
              "    </g>\n",
              "</svg>\n",
              "      </button>\n",
              "\n",
              "<style>\n",
              "  .colab-df-quickchart {\n",
              "      --bg-color: #E8F0FE;\n",
              "      --fill-color: #1967D2;\n",
              "      --hover-bg-color: #E2EBFA;\n",
              "      --hover-fill-color: #174EA6;\n",
              "      --disabled-fill-color: #AAA;\n",
              "      --disabled-bg-color: #DDD;\n",
              "  }\n",
              "\n",
              "  [theme=dark] .colab-df-quickchart {\n",
              "      --bg-color: #3B4455;\n",
              "      --fill-color: #D2E3FC;\n",
              "      --hover-bg-color: #434B5C;\n",
              "      --hover-fill-color: #FFFFFF;\n",
              "      --disabled-bg-color: #3B4455;\n",
              "      --disabled-fill-color: #666;\n",
              "  }\n",
              "\n",
              "  .colab-df-quickchart {\n",
              "    background-color: var(--bg-color);\n",
              "    border: none;\n",
              "    border-radius: 50%;\n",
              "    cursor: pointer;\n",
              "    display: none;\n",
              "    fill: var(--fill-color);\n",
              "    height: 32px;\n",
              "    padding: 0;\n",
              "    width: 32px;\n",
              "  }\n",
              "\n",
              "  .colab-df-quickchart:hover {\n",
              "    background-color: var(--hover-bg-color);\n",
              "    box-shadow: 0 1px 2px rgba(60, 64, 67, 0.3), 0 1px 3px 1px rgba(60, 64, 67, 0.15);\n",
              "    fill: var(--button-hover-fill-color);\n",
              "  }\n",
              "\n",
              "  .colab-df-quickchart-complete:disabled,\n",
              "  .colab-df-quickchart-complete:disabled:hover {\n",
              "    background-color: var(--disabled-bg-color);\n",
              "    fill: var(--disabled-fill-color);\n",
              "    box-shadow: none;\n",
              "  }\n",
              "\n",
              "  .colab-df-spinner {\n",
              "    border: 2px solid var(--fill-color);\n",
              "    border-color: transparent;\n",
              "    border-bottom-color: var(--fill-color);\n",
              "    animation:\n",
              "      spin 1s steps(1) infinite;\n",
              "  }\n",
              "\n",
              "  @keyframes spin {\n",
              "    0% {\n",
              "      border-color: transparent;\n",
              "      border-bottom-color: var(--fill-color);\n",
              "      border-left-color: var(--fill-color);\n",
              "    }\n",
              "    20% {\n",
              "      border-color: transparent;\n",
              "      border-left-color: var(--fill-color);\n",
              "      border-top-color: var(--fill-color);\n",
              "    }\n",
              "    30% {\n",
              "      border-color: transparent;\n",
              "      border-left-color: var(--fill-color);\n",
              "      border-top-color: var(--fill-color);\n",
              "      border-right-color: var(--fill-color);\n",
              "    }\n",
              "    40% {\n",
              "      border-color: transparent;\n",
              "      border-right-color: var(--fill-color);\n",
              "      border-top-color: var(--fill-color);\n",
              "    }\n",
              "    60% {\n",
              "      border-color: transparent;\n",
              "      border-right-color: var(--fill-color);\n",
              "    }\n",
              "    80% {\n",
              "      border-color: transparent;\n",
              "      border-right-color: var(--fill-color);\n",
              "      border-bottom-color: var(--fill-color);\n",
              "    }\n",
              "    90% {\n",
              "      border-color: transparent;\n",
              "      border-bottom-color: var(--fill-color);\n",
              "    }\n",
              "  }\n",
              "</style>\n",
              "\n",
              "      <script>\n",
              "        async function quickchart(key) {\n",
              "          const quickchartButtonEl =\n",
              "            document.querySelector('#' + key + ' button');\n",
              "          quickchartButtonEl.disabled = true;  // To prevent multiple clicks.\n",
              "          quickchartButtonEl.classList.add('colab-df-spinner');\n",
              "          try {\n",
              "            const charts = await google.colab.kernel.invokeFunction(\n",
              "                'suggestCharts', [key], {});\n",
              "          } catch (error) {\n",
              "            console.error('Error during call to suggestCharts:', error);\n",
              "          }\n",
              "          quickchartButtonEl.classList.remove('colab-df-spinner');\n",
              "          quickchartButtonEl.classList.add('colab-df-quickchart-complete');\n",
              "        }\n",
              "        (() => {\n",
              "          let quickchartButtonEl =\n",
              "            document.querySelector('#df-0cef9226-a882-4f30-ab27-c098a9100de1 button');\n",
              "          quickchartButtonEl.style.display =\n",
              "            google.colab.kernel.accessAllowed ? 'block' : 'none';\n",
              "        })();\n",
              "      </script>\n",
              "    </div>\n",
              "\n",
              "    </div>\n",
              "  </div>\n"
            ],
            "application/vnd.google.colaboratory.intrinsic+json": {
              "type": "dataframe",
              "variable_name": "true_data",
              "summary": "{\n  \"name\": \"true_data\",\n  \"rows\": 21417,\n  \"fields\": [\n    {\n      \"column\": \"title\",\n      \"properties\": {\n        \"dtype\": \"string\",\n        \"num_unique_values\": 20826,\n        \"samples\": [\n          \"German, Turkish foreign ministers meet after detainee released\",\n          \"Kremlin calls North Korea's latest missile launch another 'provocation'\",\n          \"Transgender soldiers, veterans shaken by Trump's ban on their service\"\n        ],\n        \"semantic_type\": \"\",\n        \"description\": \"\"\n      }\n    },\n    {\n      \"column\": \"text\",\n      \"properties\": {\n        \"dtype\": \"string\",\n        \"num_unique_values\": 21192,\n        \"samples\": [\n          \"WASHINGTON (Reuters) - A majority of the U.S. Senate on Tuesday backed a new round of disaster aid to help Puerto Rico and several states recover from damage from hurricanes and wildfires. The legislation would provide $36.5 billion in emergency relief as Puerto Rico in particular struggles to regain electricity and other basic services following destructive hurricanes. The House of Representatives approved the bill earlier this month. The Trump administration already has indicated it will seek another round of emergency relief from Congress. \",\n          \"BUDAPEST (Reuters) - About a thousand Hungarians protested on Friday against a crackdown on the main opposition party Jobbik which has been  threatened by a record political campaign fine that the party leader describes as a  death sentence  for democracy. Despite the gloomy rhetoric and Jobbik saying it was fighting for survival, support for the demonstration was well down on other similar rallies over the past year. Hungarians will vote for a new parliament in April and Prime Minister Viktor Orban s conservative, anti-migrant Fidesz party is far ahead in the polls, with Jobbik its nearest rival. Jobbik, once on the far right, has turned toward the center in a bid to attract more support and is now campaigning nationwide against Orban, depicting him as the leader of a criminal gang. Orban, rejecting the charges, says his financial standing is  an open book . Last week the state audit office (ASZ) ruled Jobbik had bought political posters far below market prices, breaching rules on political funding, then it slapped a 663 million forint ($2.5 million) penalty on the party. The protesters, waving Jobbik flags and posters deriding the ruling elite, gathered outside the headquarters of Orban s Fidesz party.  What we see unfolding is not an audit office investigation. It is not an official penalty. This is a death sentence with Jobbik s name on it. But in reality, it is a death sentence for Hungarian democracy,  Jobbiik leader Gabor Vona told the crowd. A government spokesman could not comment immediately on his remarks. ASZ chairman Laszlo Domokos is a former Fidesz lawmaker, whom Jobbik and other critics accuse of making decisions in favor of Orban. The audit office denies that. On Friday, ASZ again called on Jobbik to submit information that would challenge its findings, saying it acted fully within its rights throughout the probe. The ruling Fidesz party and the government have denied any involvement in the ASZ probe.  This case has nothing to do with the election campaign,  Orban aide Janos Lazar said on Thursday. For over a year Fidesz has targeted Jobbik, whose move to the center could upend the longstanding status quo of a dominant Fidesz with weaker opponents to its left and its right, said analyst Zoltan Novak at the Centre for Fair Political Analysis. Gyorgy Illes, a 67-year-old pensioner attending the rally, said he used to be a Socialist supporter but got disillusioned as the party struggled to overcome its internal divisions.  This ASZ probe is a clear sign that Orban is way past any remedy. It is a ruthless attack on everything we hold dear. Democracy, the rule of law, equality, you name it,  he said. \",\n          \"BEIJING/TAIPEI (Reuters) - China accused the United States on Thursday of interfering in its internal affairs and said it had lodged a complaint after U.S. President Donald Trump signed into law an act laying the groundwork for possible U.S. navy visits to self-ruled Taiwan. Tensions have risen in recent days after a senior Chinese diplomat threatened China would invade Taiwan if any U.S. warships made port visits to the island which China claims as its own territory. On Monday, Chinese jets carried out  island encirclement patrols  around Taiwan, with state media showing pictures of bombers with cruise missiles slung under their wings as they carried out the exercise. On Tuesday, Trump signed into law the National Defense Authorization Act for the 2018 fiscal year, which authorizes the possibility of mutual visits by navy vessels between Taiwan and the United States. Such visits would be the first since the United States ended formal diplomatic relations with Taiwan in 1979 and established ties with Beijing. Chinese Foreign Ministry spokesman Lu Kang said while the Taiwan sections of the law were not legally binding, they seriously violate the  One China  policy and  constitute an interference in China s internal affairs .   China is resolutely opposed to this, and we have already lodged stern representations with the U.S. government,  Lu told a daily news briefing. China is firmly opposed to any official exchanges, military contact, or arms sales between Taiwan and the United States, he added.  Proudly democratic Taiwan has become increasingly concerned with the ramped up Chinese military presence, that has included several rounds of Chinese air force drills around the island in recent months.  Taiwan is confident of its defenses and responded quickly to the Chinese air force drills this week, its government said, denouncing the rise in China s military deployments as irresponsible. Taiwan presidential spokesman Alex Huang, speaking to Taiwan media in comments reported late on Wednesday, said the defense ministry had kept a close watch on the patrols and responded immediately and properly. Taiwan  can ensure there are no concerns at all about national security, and people can rest assured , Huang said. Both sides of the narrow Taiwan Strait, which separates Taiwan from its giant neighbor, have a responsibility to protect peace and stability, he added.  Such a raised military posture that may impact upon and harm regional peace and stability and cross-strait ties does not give a feeling of responsibility, and the international community does not look favorably upon this,  Huang was quoted as saying. Relations have soured considerably since Tsai Ing-wen, who leads Taiwan s independence-leaning Democratic Progressive Party, won presidential elections last year. China suspects Tsai wants to declare the island s formal independence, a red line for Beijing. Tsai says she wants to maintain peace with China but will defend Taiwan s security. Taiwan is well equipped with mostly U.S. weapons but has been pressing for more advanced equipment to deal with what it sees as a rising threat from China. The United States is bound by law to provide the island with the means to defend itself. China has never renounced the use of force to bring Taiwan under its control. \"\n        ],\n        \"semantic_type\": \"\",\n        \"description\": \"\"\n      }\n    },\n    {\n      \"column\": \"subject\",\n      \"properties\": {\n        \"dtype\": \"category\",\n        \"num_unique_values\": 2,\n        \"samples\": [\n          \"worldnews\",\n          \"politicsNews\"\n        ],\n        \"semantic_type\": \"\",\n        \"description\": \"\"\n      }\n    },\n    {\n      \"column\": \"date\",\n      \"properties\": {\n        \"dtype\": \"object\",\n        \"num_unique_values\": 716,\n        \"samples\": [\n          \"September 2, 2017 \",\n          \"February 2, 2017 \"\n        ],\n        \"semantic_type\": \"\",\n        \"description\": \"\"\n      }\n    },\n    {\n      \"column\": \"label\",\n      \"properties\": {\n        \"dtype\": \"number\",\n        \"std\": 0,\n        \"min\": 1,\n        \"max\": 1,\n        \"num_unique_values\": 1,\n        \"samples\": [\n          1\n        ],\n        \"semantic_type\": \"\",\n        \"description\": \"\"\n      }\n    }\n  ]\n}"
            }
          },
          "metadata": {},
          "execution_count": 23
        }
      ],
      "source": [
        "# Adding labels\n",
        "true_data[\"label\"] = np.ones(len(true_data),dtype=int)\n",
        "fake_data[\"label\"] = np.zeros(len(fake_data),dtype=int)\n",
        "\n",
        "true_data.head()"
      ]
    },
    {
      "cell_type": "markdown",
      "metadata": {
        "papermill": {
          "duration": 0.033576,
          "end_time": "2020-10-22T13:18:59.054095",
          "exception": false,
          "start_time": "2020-10-22T13:18:59.020519",
          "status": "completed"
        },
        "tags": [],
        "id": "a-1VhMB5hts7"
      },
      "source": [
        "Concatenating the data"
      ]
    },
    {
      "cell_type": "code",
      "execution_count": 24,
      "metadata": {
        "execution": {
          "iopub.execute_input": "2020-10-22T13:18:59.129825Z",
          "iopub.status.busy": "2020-10-22T13:18:59.129066Z",
          "iopub.status.idle": "2020-10-22T13:18:59.177308Z",
          "shell.execute_reply": "2020-10-22T13:18:59.176383Z"
        },
        "papermill": {
          "duration": 0.089438,
          "end_time": "2020-10-22T13:18:59.177454",
          "exception": false,
          "start_time": "2020-10-22T13:18:59.088016",
          "status": "completed"
        },
        "tags": [],
        "colab": {
          "base_uri": "https://localhost:8080/"
        },
        "id": "OuD1XFi8hts7",
        "outputId": "e4a74b91-22be-4197-b534-23a2fa3371ba"
      },
      "outputs": [
        {
          "output_type": "stream",
          "name": "stdout",
          "text": [
            "<class 'pandas.core.frame.DataFrame'>\n",
            "Index: 44898 entries, 0 to 23480\n",
            "Data columns (total 5 columns):\n",
            " #   Column   Non-Null Count  Dtype \n",
            "---  ------   --------------  ----- \n",
            " 0   title    44898 non-null  object\n",
            " 1   text     44898 non-null  object\n",
            " 2   subject  44898 non-null  object\n",
            " 3   date     44898 non-null  object\n",
            " 4   label    44898 non-null  int64 \n",
            "dtypes: int64(1), object(4)\n",
            "memory usage: 2.1+ MB\n",
            "None\n"
          ]
        }
      ],
      "source": [
        "data = pd.concat((true_data,fake_data),axis=0)\n",
        "print(data.info())"
      ]
    },
    {
      "cell_type": "code",
      "execution_count": 25,
      "metadata": {
        "execution": {
          "iopub.execute_input": "2020-10-22T13:18:59.255532Z",
          "iopub.status.busy": "2020-10-22T13:18:59.253093Z",
          "iopub.status.idle": "2020-10-22T13:18:59.287673Z",
          "shell.execute_reply": "2020-10-22T13:18:59.286827Z"
        },
        "papermill": {
          "duration": 0.075615,
          "end_time": "2020-10-22T13:18:59.287823",
          "exception": false,
          "start_time": "2020-10-22T13:18:59.212208",
          "status": "completed"
        },
        "tags": [],
        "colab": {
          "base_uri": "https://localhost:8080/",
          "height": 363
        },
        "id": "t9WygvAChts8",
        "outputId": "5f67899d-0b75-45a7-af54-ac9b03c03988"
      },
      "outputs": [
        {
          "output_type": "execute_result",
          "data": {
            "text/plain": [
              "                                                   title  \\\n",
              "3414    BREAKING: Russian Officials Celebrate Rex Til...   \n",
              "17247  China will not deviate from path of reform, sa...   \n",
              "17285  Venezuela vote dispute escalates foreign sanct...   \n",
              "21408  SAY WHAT? Tide Detergent Joins Forces With Ope...   \n",
              "9170   HOW IS THIS POSSIBLE? LATINO IMMIGRANT, ANTI-T...   \n",
              "21375  GERMAN VOLUNTEERS HOLD WELCOME RALLY: Applaud ...   \n",
              "5895   Merkel says fight against terrorism no excuse ...   \n",
              "10436  NEW BOMBSHELL REPORT Shows DNC Emails Were Cop...   \n",
              "114     Sean Hannity Barely Spends 6 Seconds On Last ...   \n",
              "9920   #BoycottJemeleHill #ESPN Gives Racist Pig Host...   \n",
              "\n",
              "                                                    text       subject  \\\n",
              "3414   Quid pro quo in the Trump/Russia situation is ...          News   \n",
              "17247   BEIJING (Reuters) - China has set a clear dir...     worldnews   \n",
              "17285  CARACAS (Reuters) - Venezuela s opposition cri...     worldnews   \n",
              "21408  I wish there was some way I could let Tide Det...     left-news   \n",
              "9170   The fact that it has taken so long to uncover ...      politics   \n",
              "21375  Say goodbye to your economy, traditions and cu...     left-news   \n",
              "5895   BERLIN (Reuters) - German Chancellor Angela Me...  politicsNews   \n",
              "10436  DNC staffer Seth Rich was shot in the back sev...      politics   \n",
              "114    Fox  News  host Sean Hannity spent a whopping ...          News   \n",
              "9920   ESPN host Jemele Hill called President Trump a...      politics   \n",
              "\n",
              "                    date  label  \n",
              "3414   December 14, 2016      0  \n",
              "17247  October 17, 2017       1  \n",
              "17285  October 15, 2017       1  \n",
              "21408       Oct 17, 2015      0  \n",
              "9170        Dec 18, 2017      0  \n",
              "21375       Oct 31, 2015      0  \n",
              "5895   January 29, 2017       1  \n",
              "10436       Jul 10, 2017      0  \n",
              "114     November 8, 2017      0  \n",
              "9920        Sep 13, 2017      0  "
            ],
            "text/html": [
              "\n",
              "  <div id=\"df-c214db40-2ee3-4e4d-be7a-9b081eacc806\" class=\"colab-df-container\">\n",
              "    <div>\n",
              "<style scoped>\n",
              "    .dataframe tbody tr th:only-of-type {\n",
              "        vertical-align: middle;\n",
              "    }\n",
              "\n",
              "    .dataframe tbody tr th {\n",
              "        vertical-align: top;\n",
              "    }\n",
              "\n",
              "    .dataframe thead th {\n",
              "        text-align: right;\n",
              "    }\n",
              "</style>\n",
              "<table border=\"1\" class=\"dataframe\">\n",
              "  <thead>\n",
              "    <tr style=\"text-align: right;\">\n",
              "      <th></th>\n",
              "      <th>title</th>\n",
              "      <th>text</th>\n",
              "      <th>subject</th>\n",
              "      <th>date</th>\n",
              "      <th>label</th>\n",
              "    </tr>\n",
              "  </thead>\n",
              "  <tbody>\n",
              "    <tr>\n",
              "      <th>3414</th>\n",
              "      <td>BREAKING: Russian Officials Celebrate Rex Til...</td>\n",
              "      <td>Quid pro quo in the Trump/Russia situation is ...</td>\n",
              "      <td>News</td>\n",
              "      <td>December 14, 2016</td>\n",
              "      <td>0</td>\n",
              "    </tr>\n",
              "    <tr>\n",
              "      <th>17247</th>\n",
              "      <td>China will not deviate from path of reform, sa...</td>\n",
              "      <td>BEIJING (Reuters) - China has set a clear dir...</td>\n",
              "      <td>worldnews</td>\n",
              "      <td>October 17, 2017</td>\n",
              "      <td>1</td>\n",
              "    </tr>\n",
              "    <tr>\n",
              "      <th>17285</th>\n",
              "      <td>Venezuela vote dispute escalates foreign sanct...</td>\n",
              "      <td>CARACAS (Reuters) - Venezuela s opposition cri...</td>\n",
              "      <td>worldnews</td>\n",
              "      <td>October 15, 2017</td>\n",
              "      <td>1</td>\n",
              "    </tr>\n",
              "    <tr>\n",
              "      <th>21408</th>\n",
              "      <td>SAY WHAT? Tide Detergent Joins Forces With Ope...</td>\n",
              "      <td>I wish there was some way I could let Tide Det...</td>\n",
              "      <td>left-news</td>\n",
              "      <td>Oct 17, 2015</td>\n",
              "      <td>0</td>\n",
              "    </tr>\n",
              "    <tr>\n",
              "      <th>9170</th>\n",
              "      <td>HOW IS THIS POSSIBLE? LATINO IMMIGRANT, ANTI-T...</td>\n",
              "      <td>The fact that it has taken so long to uncover ...</td>\n",
              "      <td>politics</td>\n",
              "      <td>Dec 18, 2017</td>\n",
              "      <td>0</td>\n",
              "    </tr>\n",
              "    <tr>\n",
              "      <th>21375</th>\n",
              "      <td>GERMAN VOLUNTEERS HOLD WELCOME RALLY: Applaud ...</td>\n",
              "      <td>Say goodbye to your economy, traditions and cu...</td>\n",
              "      <td>left-news</td>\n",
              "      <td>Oct 31, 2015</td>\n",
              "      <td>0</td>\n",
              "    </tr>\n",
              "    <tr>\n",
              "      <th>5895</th>\n",
              "      <td>Merkel says fight against terrorism no excuse ...</td>\n",
              "      <td>BERLIN (Reuters) - German Chancellor Angela Me...</td>\n",
              "      <td>politicsNews</td>\n",
              "      <td>January 29, 2017</td>\n",
              "      <td>1</td>\n",
              "    </tr>\n",
              "    <tr>\n",
              "      <th>10436</th>\n",
              "      <td>NEW BOMBSHELL REPORT Shows DNC Emails Were Cop...</td>\n",
              "      <td>DNC staffer Seth Rich was shot in the back sev...</td>\n",
              "      <td>politics</td>\n",
              "      <td>Jul 10, 2017</td>\n",
              "      <td>0</td>\n",
              "    </tr>\n",
              "    <tr>\n",
              "      <th>114</th>\n",
              "      <td>Sean Hannity Barely Spends 6 Seconds On Last ...</td>\n",
              "      <td>Fox  News  host Sean Hannity spent a whopping ...</td>\n",
              "      <td>News</td>\n",
              "      <td>November 8, 2017</td>\n",
              "      <td>0</td>\n",
              "    </tr>\n",
              "    <tr>\n",
              "      <th>9920</th>\n",
              "      <td>#BoycottJemeleHill #ESPN Gives Racist Pig Host...</td>\n",
              "      <td>ESPN host Jemele Hill called President Trump a...</td>\n",
              "      <td>politics</td>\n",
              "      <td>Sep 13, 2017</td>\n",
              "      <td>0</td>\n",
              "    </tr>\n",
              "  </tbody>\n",
              "</table>\n",
              "</div>\n",
              "    <div class=\"colab-df-buttons\">\n",
              "\n",
              "  <div class=\"colab-df-container\">\n",
              "    <button class=\"colab-df-convert\" onclick=\"convertToInteractive('df-c214db40-2ee3-4e4d-be7a-9b081eacc806')\"\n",
              "            title=\"Convert this dataframe to an interactive table.\"\n",
              "            style=\"display:none;\">\n",
              "\n",
              "  <svg xmlns=\"http://www.w3.org/2000/svg\" height=\"24px\" viewBox=\"0 -960 960 960\">\n",
              "    <path d=\"M120-120v-720h720v720H120Zm60-500h600v-160H180v160Zm220 220h160v-160H400v160Zm0 220h160v-160H400v160ZM180-400h160v-160H180v160Zm440 0h160v-160H620v160ZM180-180h160v-160H180v160Zm440 0h160v-160H620v160Z\"/>\n",
              "  </svg>\n",
              "    </button>\n",
              "\n",
              "  <style>\n",
              "    .colab-df-container {\n",
              "      display:flex;\n",
              "      gap: 12px;\n",
              "    }\n",
              "\n",
              "    .colab-df-convert {\n",
              "      background-color: #E8F0FE;\n",
              "      border: none;\n",
              "      border-radius: 50%;\n",
              "      cursor: pointer;\n",
              "      display: none;\n",
              "      fill: #1967D2;\n",
              "      height: 32px;\n",
              "      padding: 0 0 0 0;\n",
              "      width: 32px;\n",
              "    }\n",
              "\n",
              "    .colab-df-convert:hover {\n",
              "      background-color: #E2EBFA;\n",
              "      box-shadow: 0px 1px 2px rgba(60, 64, 67, 0.3), 0px 1px 3px 1px rgba(60, 64, 67, 0.15);\n",
              "      fill: #174EA6;\n",
              "    }\n",
              "\n",
              "    .colab-df-buttons div {\n",
              "      margin-bottom: 4px;\n",
              "    }\n",
              "\n",
              "    [theme=dark] .colab-df-convert {\n",
              "      background-color: #3B4455;\n",
              "      fill: #D2E3FC;\n",
              "    }\n",
              "\n",
              "    [theme=dark] .colab-df-convert:hover {\n",
              "      background-color: #434B5C;\n",
              "      box-shadow: 0px 1px 3px 1px rgba(0, 0, 0, 0.15);\n",
              "      filter: drop-shadow(0px 1px 2px rgba(0, 0, 0, 0.3));\n",
              "      fill: #FFFFFF;\n",
              "    }\n",
              "  </style>\n",
              "\n",
              "    <script>\n",
              "      const buttonEl =\n",
              "        document.querySelector('#df-c214db40-2ee3-4e4d-be7a-9b081eacc806 button.colab-df-convert');\n",
              "      buttonEl.style.display =\n",
              "        google.colab.kernel.accessAllowed ? 'block' : 'none';\n",
              "\n",
              "      async function convertToInteractive(key) {\n",
              "        const element = document.querySelector('#df-c214db40-2ee3-4e4d-be7a-9b081eacc806');\n",
              "        const dataTable =\n",
              "          await google.colab.kernel.invokeFunction('convertToInteractive',\n",
              "                                                    [key], {});\n",
              "        if (!dataTable) return;\n",
              "\n",
              "        const docLinkHtml = 'Like what you see? Visit the ' +\n",
              "          '<a target=\"_blank\" href=https://colab.research.google.com/notebooks/data_table.ipynb>data table notebook</a>'\n",
              "          + ' to learn more about interactive tables.';\n",
              "        element.innerHTML = '';\n",
              "        dataTable['output_type'] = 'display_data';\n",
              "        await google.colab.output.renderOutput(dataTable, element);\n",
              "        const docLink = document.createElement('div');\n",
              "        docLink.innerHTML = docLinkHtml;\n",
              "        element.appendChild(docLink);\n",
              "      }\n",
              "    </script>\n",
              "  </div>\n",
              "\n",
              "\n",
              "    <div id=\"df-1bbe93ce-03ab-478d-a806-c6477b60e84b\">\n",
              "      <button class=\"colab-df-quickchart\" onclick=\"quickchart('df-1bbe93ce-03ab-478d-a806-c6477b60e84b')\"\n",
              "                title=\"Suggest charts\"\n",
              "                style=\"display:none;\">\n",
              "\n",
              "<svg xmlns=\"http://www.w3.org/2000/svg\" height=\"24px\"viewBox=\"0 0 24 24\"\n",
              "     width=\"24px\">\n",
              "    <g>\n",
              "        <path d=\"M19 3H5c-1.1 0-2 .9-2 2v14c0 1.1.9 2 2 2h14c1.1 0 2-.9 2-2V5c0-1.1-.9-2-2-2zM9 17H7v-7h2v7zm4 0h-2V7h2v10zm4 0h-2v-4h2v4z\"/>\n",
              "    </g>\n",
              "</svg>\n",
              "      </button>\n",
              "\n",
              "<style>\n",
              "  .colab-df-quickchart {\n",
              "      --bg-color: #E8F0FE;\n",
              "      --fill-color: #1967D2;\n",
              "      --hover-bg-color: #E2EBFA;\n",
              "      --hover-fill-color: #174EA6;\n",
              "      --disabled-fill-color: #AAA;\n",
              "      --disabled-bg-color: #DDD;\n",
              "  }\n",
              "\n",
              "  [theme=dark] .colab-df-quickchart {\n",
              "      --bg-color: #3B4455;\n",
              "      --fill-color: #D2E3FC;\n",
              "      --hover-bg-color: #434B5C;\n",
              "      --hover-fill-color: #FFFFFF;\n",
              "      --disabled-bg-color: #3B4455;\n",
              "      --disabled-fill-color: #666;\n",
              "  }\n",
              "\n",
              "  .colab-df-quickchart {\n",
              "    background-color: var(--bg-color);\n",
              "    border: none;\n",
              "    border-radius: 50%;\n",
              "    cursor: pointer;\n",
              "    display: none;\n",
              "    fill: var(--fill-color);\n",
              "    height: 32px;\n",
              "    padding: 0;\n",
              "    width: 32px;\n",
              "  }\n",
              "\n",
              "  .colab-df-quickchart:hover {\n",
              "    background-color: var(--hover-bg-color);\n",
              "    box-shadow: 0 1px 2px rgba(60, 64, 67, 0.3), 0 1px 3px 1px rgba(60, 64, 67, 0.15);\n",
              "    fill: var(--button-hover-fill-color);\n",
              "  }\n",
              "\n",
              "  .colab-df-quickchart-complete:disabled,\n",
              "  .colab-df-quickchart-complete:disabled:hover {\n",
              "    background-color: var(--disabled-bg-color);\n",
              "    fill: var(--disabled-fill-color);\n",
              "    box-shadow: none;\n",
              "  }\n",
              "\n",
              "  .colab-df-spinner {\n",
              "    border: 2px solid var(--fill-color);\n",
              "    border-color: transparent;\n",
              "    border-bottom-color: var(--fill-color);\n",
              "    animation:\n",
              "      spin 1s steps(1) infinite;\n",
              "  }\n",
              "\n",
              "  @keyframes spin {\n",
              "    0% {\n",
              "      border-color: transparent;\n",
              "      border-bottom-color: var(--fill-color);\n",
              "      border-left-color: var(--fill-color);\n",
              "    }\n",
              "    20% {\n",
              "      border-color: transparent;\n",
              "      border-left-color: var(--fill-color);\n",
              "      border-top-color: var(--fill-color);\n",
              "    }\n",
              "    30% {\n",
              "      border-color: transparent;\n",
              "      border-left-color: var(--fill-color);\n",
              "      border-top-color: var(--fill-color);\n",
              "      border-right-color: var(--fill-color);\n",
              "    }\n",
              "    40% {\n",
              "      border-color: transparent;\n",
              "      border-right-color: var(--fill-color);\n",
              "      border-top-color: var(--fill-color);\n",
              "    }\n",
              "    60% {\n",
              "      border-color: transparent;\n",
              "      border-right-color: var(--fill-color);\n",
              "    }\n",
              "    80% {\n",
              "      border-color: transparent;\n",
              "      border-right-color: var(--fill-color);\n",
              "      border-bottom-color: var(--fill-color);\n",
              "    }\n",
              "    90% {\n",
              "      border-color: transparent;\n",
              "      border-bottom-color: var(--fill-color);\n",
              "    }\n",
              "  }\n",
              "</style>\n",
              "\n",
              "      <script>\n",
              "        async function quickchart(key) {\n",
              "          const quickchartButtonEl =\n",
              "            document.querySelector('#' + key + ' button');\n",
              "          quickchartButtonEl.disabled = true;  // To prevent multiple clicks.\n",
              "          quickchartButtonEl.classList.add('colab-df-spinner');\n",
              "          try {\n",
              "            const charts = await google.colab.kernel.invokeFunction(\n",
              "                'suggestCharts', [key], {});\n",
              "          } catch (error) {\n",
              "            console.error('Error during call to suggestCharts:', error);\n",
              "          }\n",
              "          quickchartButtonEl.classList.remove('colab-df-spinner');\n",
              "          quickchartButtonEl.classList.add('colab-df-quickchart-complete');\n",
              "        }\n",
              "        (() => {\n",
              "          let quickchartButtonEl =\n",
              "            document.querySelector('#df-1bbe93ce-03ab-478d-a806-c6477b60e84b button');\n",
              "          quickchartButtonEl.style.display =\n",
              "            google.colab.kernel.accessAllowed ? 'block' : 'none';\n",
              "        })();\n",
              "      </script>\n",
              "    </div>\n",
              "\n",
              "    </div>\n",
              "  </div>\n"
            ],
            "application/vnd.google.colaboratory.intrinsic+json": {
              "type": "dataframe",
              "variable_name": "data",
              "summary": "{\n  \"name\": \"data\",\n  \"rows\": 44898,\n  \"fields\": [\n    {\n      \"column\": \"title\",\n      \"properties\": {\n        \"dtype\": \"string\",\n        \"num_unique_values\": 38729,\n        \"samples\": [\n          \"France's Macron says received no request to host ex-Lebanese PM Hariri in France\",\n          \"GOP Official Drops Bombshell During Angry Debate With Lou Dobbs Over John Kelly [Video]\",\n          \"Trump says Puerto Ricans are 'wonderful,' have 'unmatched spirit'\"\n        ],\n        \"semantic_type\": \"\",\n        \"description\": \"\"\n      }\n    },\n    {\n      \"column\": \"text\",\n      \"properties\": {\n        \"dtype\": \"string\",\n        \"num_unique_values\": 38646,\n        \"samples\": [\n          \"HARARE (Reuters) - A high court judge in Zimbabwe said on Thursday the state s case against a U.S. citizen charged with trying to subvert President Robert Mugabe s government lacked facts and ordered that she be granted bail. Martha O Donovan has been in prison since Saturday, a day after she was arrested on accusations of insulting Mugabe in a Twitter post. Police later leveled the more serious charge of subversion, which carries a possible 20-year jail term. She denies both charges. O Donovan works for Magamba TV, which describes itself as Zimbabwe s leading producer of political satire. In granting her bail, High Court Judge Clement Phiri said there was a  patent absence of facts  in the state s case.  The applicant has demonstrated that she should be granted bail. It is my finding that it is in the interests of justice that the applicant be given bail,  Phiri said. O Donovan was not in court. Phiri ordered her to deposit $1,000 with the court, surrender her passport and report to the criminal investigations department twice a week as part of her bail conditions. Her lawyer Obey Shava said O Donovan would be released on Friday after completing administrative procedures. Amnesty International said in a statement the case showed that Zimbabwean authorities had contempt for freedom of expression. The state s case centers on a Twitter post it says she wrote in October calling Mugabe a  selfish and sick man . The government set up a Ministry of Cyber Security last month. Zimbabwe is facing acute shortages of foreign exchange and cash. The country is also concerned with who will succeed Mugabe, 93, who has ruled since independence from Britain in 1980. He plans to contest next year s election. This week Mugabe fired his deputy Emmerson Mnangagwa from the government and ruling party for  disloyalty . Mnangagawa was seen as a potential successor.  Formal opposition to Mugabe is limited but the government is wary of social media. Last year, activists including pastor Evan Mawarire used it to organize the #ThisFlag movement. Its stay-at-home demonstration was the biggest protest in a decade. \",\n          \"This is probably the best seen from Judge Jeanine   she nails Obama!  Police brutality is color blind    Judge Jeanine \",\n          \"The New York Post reported: Melania is extremely close to Barron, and they have become closer during the campaign,  said a source close to Trump s transition team.  The campaign has been difficult for Barron, and she is really hoping to keep disruption to a minimum. Another source said Melania Trump will travel to the White House as needed, but that her primary focus is on Barron. Melania is very supportive of her husband and is fully on board of doing everything that s needed as first lady,  said the second source familiar with the Trump transition.That source said also that there is a possibility that Melania and Barron may move to the White House at the end of the school year, but no plans are in place. She is really devoted to Barron,  said a source close to the family, adding that Melania has not relied on nannies to raise the child and is frequently seen picking the fourth-grader up from his prep school, where tuition is north of $40,000.Barron and Melania will each have an unknown number of Secret Service agents assigned to them in addition to a driver and armored vehicle to take Barron to school, Reese said. An advance team of agents will swoop down on the school each morning to make sure it s safe, he added. Read more: NYPBarron and Melania Trump got a taste of what their life will be like when they dropped in to have lunch at a local NYC restaurant. Serafina became a gawker s paradise when the two were spotted with Secret Service in tow:The spotlight was on this family before but will certainly be on them now that they re the First Family.Let s hope that Barron won t be picked apart by the main stream media.He s already receiving attention from around the world Barron has been named a  Manga Idol  in Japan. That means  beautiful boy \"\n        ],\n        \"semantic_type\": \"\",\n        \"description\": \"\"\n      }\n    },\n    {\n      \"column\": \"subject\",\n      \"properties\": {\n        \"dtype\": \"category\",\n        \"num_unique_values\": 8,\n        \"samples\": [\n          \"worldnews\",\n          \"Middle-east\",\n          \"News\"\n        ],\n        \"semantic_type\": \"\",\n        \"description\": \"\"\n      }\n    },\n    {\n      \"column\": \"date\",\n      \"properties\": {\n        \"dtype\": \"category\",\n        \"num_unique_values\": 2397,\n        \"samples\": [\n          \"March 13, 2016\",\n          \"Jul 15, 2016\",\n          \"March 23, 2016 \"\n        ],\n        \"semantic_type\": \"\",\n        \"description\": \"\"\n      }\n    },\n    {\n      \"column\": \"label\",\n      \"properties\": {\n        \"dtype\": \"number\",\n        \"std\": 0,\n        \"min\": 0,\n        \"max\": 1,\n        \"num_unique_values\": 2,\n        \"samples\": [\n          1,\n          0\n        ],\n        \"semantic_type\": \"\",\n        \"description\": \"\"\n      }\n    }\n  ]\n}"
            }
          },
          "metadata": {},
          "execution_count": 25
        }
      ],
      "source": [
        "data = data.sample(frac=1)\n",
        "data.head(10)"
      ]
    },
    {
      "cell_type": "markdown",
      "metadata": {
        "papermill": {
          "duration": 0.037522,
          "end_time": "2020-10-22T13:18:59.440141",
          "exception": false,
          "start_time": "2020-10-22T13:18:59.402619",
          "status": "completed"
        },
        "tags": [],
        "id": "NXvU-OKphts9"
      },
      "source": [
        "# EDA"
      ]
    },
    {
      "cell_type": "markdown",
      "metadata": {
        "papermill": {
          "duration": 0.036091,
          "end_time": "2020-10-22T13:18:59.759379",
          "exception": false,
          "start_time": "2020-10-22T13:18:59.723288",
          "status": "completed"
        },
        "tags": [],
        "id": "HQzluEbEhts9"
      },
      "source": [
        "Almost balanced data"
      ]
    },
    {
      "cell_type": "code",
      "execution_count": 26,
      "metadata": {
        "execution": {
          "iopub.execute_input": "2020-10-22T13:18:59.926104Z",
          "iopub.status.busy": "2020-10-22T13:18:59.925105Z",
          "iopub.status.idle": "2020-10-22T13:18:59.930688Z",
          "shell.execute_reply": "2020-10-22T13:18:59.929822Z"
        },
        "papermill": {
          "duration": 0.063022,
          "end_time": "2020-10-22T13:18:59.930841",
          "exception": false,
          "start_time": "2020-10-22T13:18:59.867819",
          "status": "completed"
        },
        "tags": [],
        "colab": {
          "base_uri": "https://localhost:8080/",
          "height": 366
        },
        "id": "OT2Dp5Yyhts9",
        "outputId": "78d980e1-c87a-4edf-b83d-6d18a950ef86"
      },
      "outputs": [
        {
          "output_type": "execute_result",
          "data": {
            "text/plain": [
              "subject\n",
              "politicsNews       11272\n",
              "worldnews          10145\n",
              "News                9050\n",
              "politics            6841\n",
              "left-news           4459\n",
              "Government News     1570\n",
              "US_News              783\n",
              "Middle-east          778\n",
              "Name: count, dtype: int64"
            ],
            "text/html": [
              "<div>\n",
              "<style scoped>\n",
              "    .dataframe tbody tr th:only-of-type {\n",
              "        vertical-align: middle;\n",
              "    }\n",
              "\n",
              "    .dataframe tbody tr th {\n",
              "        vertical-align: top;\n",
              "    }\n",
              "\n",
              "    .dataframe thead th {\n",
              "        text-align: right;\n",
              "    }\n",
              "</style>\n",
              "<table border=\"1\" class=\"dataframe\">\n",
              "  <thead>\n",
              "    <tr style=\"text-align: right;\">\n",
              "      <th></th>\n",
              "      <th>count</th>\n",
              "    </tr>\n",
              "    <tr>\n",
              "      <th>subject</th>\n",
              "      <th></th>\n",
              "    </tr>\n",
              "  </thead>\n",
              "  <tbody>\n",
              "    <tr>\n",
              "      <th>politicsNews</th>\n",
              "      <td>11272</td>\n",
              "    </tr>\n",
              "    <tr>\n",
              "      <th>worldnews</th>\n",
              "      <td>10145</td>\n",
              "    </tr>\n",
              "    <tr>\n",
              "      <th>News</th>\n",
              "      <td>9050</td>\n",
              "    </tr>\n",
              "    <tr>\n",
              "      <th>politics</th>\n",
              "      <td>6841</td>\n",
              "    </tr>\n",
              "    <tr>\n",
              "      <th>left-news</th>\n",
              "      <td>4459</td>\n",
              "    </tr>\n",
              "    <tr>\n",
              "      <th>Government News</th>\n",
              "      <td>1570</td>\n",
              "    </tr>\n",
              "    <tr>\n",
              "      <th>US_News</th>\n",
              "      <td>783</td>\n",
              "    </tr>\n",
              "    <tr>\n",
              "      <th>Middle-east</th>\n",
              "      <td>778</td>\n",
              "    </tr>\n",
              "  </tbody>\n",
              "</table>\n",
              "</div><br><label><b>dtype:</b> int64</label>"
            ]
          },
          "metadata": {},
          "execution_count": 26
        }
      ],
      "source": [
        "data[\"subject\"].value_counts()"
      ]
    },
    {
      "cell_type": "markdown",
      "metadata": {
        "papermill": {
          "duration": 0.041748,
          "end_time": "2020-10-22T13:19:00.011137",
          "exception": false,
          "start_time": "2020-10-22T13:18:59.969389",
          "status": "completed"
        },
        "tags": [],
        "id": "3-PZfsx9hts9"
      },
      "source": [
        "8 type of subjects in the dataset.\n",
        "politicsNews is most common."
      ]
    },
    {
      "cell_type": "markdown",
      "metadata": {
        "papermill": {
          "duration": 0.042163,
          "end_time": "2020-10-22T13:19:00.093966",
          "exception": false,
          "start_time": "2020-10-22T13:19:00.051803",
          "status": "completed"
        },
        "tags": [],
        "id": "8de1vGNAhts9"
      },
      "source": [
        "# Data Preprocessing"
      ]
    },
    {
      "cell_type": "code",
      "execution_count": 27,
      "metadata": {
        "execution": {
          "iopub.execute_input": "2020-10-22T13:19:00.254737Z",
          "iopub.status.busy": "2020-10-22T13:19:00.253942Z",
          "iopub.status.idle": "2020-10-22T13:19:00.293717Z",
          "shell.execute_reply": "2020-10-22T13:19:00.294367Z"
        },
        "papermill": {
          "duration": 0.0882,
          "end_time": "2020-10-22T13:19:00.294579",
          "exception": false,
          "start_time": "2020-10-22T13:19:00.206379",
          "status": "completed"
        },
        "tags": [],
        "colab": {
          "base_uri": "https://localhost:8080/",
          "height": 591
        },
        "id": "M6X9ssj4hts-",
        "outputId": "363aff7b-e5a5-4546-f3f0-e8125197586c"
      },
      "outputs": [
        {
          "output_type": "execute_result",
          "data": {
            "text/plain": [
              "                                                   title  \\\n",
              "3414    BREAKING: Russian Officials Celebrate Rex Til...   \n",
              "17247  China will not deviate from path of reform, sa...   \n",
              "17285  Venezuela vote dispute escalates foreign sanct...   \n",
              "21408  SAY WHAT? Tide Detergent Joins Forces With Ope...   \n",
              "9170   HOW IS THIS POSSIBLE? LATINO IMMIGRANT, ANTI-T...   \n",
              "\n",
              "                                                    text               date  \\\n",
              "3414   Quid pro quo in the Trump/Russia situation is ...  December 14, 2016   \n",
              "17247   BEIJING (Reuters) - China has set a clear dir...  October 17, 2017    \n",
              "17285  CARACAS (Reuters) - Venezuela s opposition cri...  October 15, 2017    \n",
              "21408  I wish there was some way I could let Tide Det...       Oct 17, 2015   \n",
              "9170   The fact that it has taken so long to uncover ...       Dec 18, 2017   \n",
              "\n",
              "       label  subject_Government News  subject_Middle-east  subject_News  \\\n",
              "3414       0                    False                False          True   \n",
              "17247      1                    False                False         False   \n",
              "17285      1                    False                False         False   \n",
              "21408      0                    False                False         False   \n",
              "9170       0                    False                False         False   \n",
              "\n",
              "       subject_US_News  subject_left-news  subject_politics  \\\n",
              "3414             False              False             False   \n",
              "17247            False              False             False   \n",
              "17285            False              False             False   \n",
              "21408            False               True             False   \n",
              "9170             False              False              True   \n",
              "\n",
              "       subject_politicsNews  subject_worldnews  \n",
              "3414                  False              False  \n",
              "17247                 False               True  \n",
              "17285                 False               True  \n",
              "21408                 False              False  \n",
              "9170                  False              False  "
            ],
            "text/html": [
              "\n",
              "  <div id=\"df-b6abefa2-a765-472a-8d19-c8e6e3ecd96a\" class=\"colab-df-container\">\n",
              "    <div>\n",
              "<style scoped>\n",
              "    .dataframe tbody tr th:only-of-type {\n",
              "        vertical-align: middle;\n",
              "    }\n",
              "\n",
              "    .dataframe tbody tr th {\n",
              "        vertical-align: top;\n",
              "    }\n",
              "\n",
              "    .dataframe thead th {\n",
              "        text-align: right;\n",
              "    }\n",
              "</style>\n",
              "<table border=\"1\" class=\"dataframe\">\n",
              "  <thead>\n",
              "    <tr style=\"text-align: right;\">\n",
              "      <th></th>\n",
              "      <th>title</th>\n",
              "      <th>text</th>\n",
              "      <th>date</th>\n",
              "      <th>label</th>\n",
              "      <th>subject_Government News</th>\n",
              "      <th>subject_Middle-east</th>\n",
              "      <th>subject_News</th>\n",
              "      <th>subject_US_News</th>\n",
              "      <th>subject_left-news</th>\n",
              "      <th>subject_politics</th>\n",
              "      <th>subject_politicsNews</th>\n",
              "      <th>subject_worldnews</th>\n",
              "    </tr>\n",
              "  </thead>\n",
              "  <tbody>\n",
              "    <tr>\n",
              "      <th>3414</th>\n",
              "      <td>BREAKING: Russian Officials Celebrate Rex Til...</td>\n",
              "      <td>Quid pro quo in the Trump/Russia situation is ...</td>\n",
              "      <td>December 14, 2016</td>\n",
              "      <td>0</td>\n",
              "      <td>False</td>\n",
              "      <td>False</td>\n",
              "      <td>True</td>\n",
              "      <td>False</td>\n",
              "      <td>False</td>\n",
              "      <td>False</td>\n",
              "      <td>False</td>\n",
              "      <td>False</td>\n",
              "    </tr>\n",
              "    <tr>\n",
              "      <th>17247</th>\n",
              "      <td>China will not deviate from path of reform, sa...</td>\n",
              "      <td>BEIJING (Reuters) - China has set a clear dir...</td>\n",
              "      <td>October 17, 2017</td>\n",
              "      <td>1</td>\n",
              "      <td>False</td>\n",
              "      <td>False</td>\n",
              "      <td>False</td>\n",
              "      <td>False</td>\n",
              "      <td>False</td>\n",
              "      <td>False</td>\n",
              "      <td>False</td>\n",
              "      <td>True</td>\n",
              "    </tr>\n",
              "    <tr>\n",
              "      <th>17285</th>\n",
              "      <td>Venezuela vote dispute escalates foreign sanct...</td>\n",
              "      <td>CARACAS (Reuters) - Venezuela s opposition cri...</td>\n",
              "      <td>October 15, 2017</td>\n",
              "      <td>1</td>\n",
              "      <td>False</td>\n",
              "      <td>False</td>\n",
              "      <td>False</td>\n",
              "      <td>False</td>\n",
              "      <td>False</td>\n",
              "      <td>False</td>\n",
              "      <td>False</td>\n",
              "      <td>True</td>\n",
              "    </tr>\n",
              "    <tr>\n",
              "      <th>21408</th>\n",
              "      <td>SAY WHAT? Tide Detergent Joins Forces With Ope...</td>\n",
              "      <td>I wish there was some way I could let Tide Det...</td>\n",
              "      <td>Oct 17, 2015</td>\n",
              "      <td>0</td>\n",
              "      <td>False</td>\n",
              "      <td>False</td>\n",
              "      <td>False</td>\n",
              "      <td>False</td>\n",
              "      <td>True</td>\n",
              "      <td>False</td>\n",
              "      <td>False</td>\n",
              "      <td>False</td>\n",
              "    </tr>\n",
              "    <tr>\n",
              "      <th>9170</th>\n",
              "      <td>HOW IS THIS POSSIBLE? LATINO IMMIGRANT, ANTI-T...</td>\n",
              "      <td>The fact that it has taken so long to uncover ...</td>\n",
              "      <td>Dec 18, 2017</td>\n",
              "      <td>0</td>\n",
              "      <td>False</td>\n",
              "      <td>False</td>\n",
              "      <td>False</td>\n",
              "      <td>False</td>\n",
              "      <td>False</td>\n",
              "      <td>True</td>\n",
              "      <td>False</td>\n",
              "      <td>False</td>\n",
              "    </tr>\n",
              "  </tbody>\n",
              "</table>\n",
              "</div>\n",
              "    <div class=\"colab-df-buttons\">\n",
              "\n",
              "  <div class=\"colab-df-container\">\n",
              "    <button class=\"colab-df-convert\" onclick=\"convertToInteractive('df-b6abefa2-a765-472a-8d19-c8e6e3ecd96a')\"\n",
              "            title=\"Convert this dataframe to an interactive table.\"\n",
              "            style=\"display:none;\">\n",
              "\n",
              "  <svg xmlns=\"http://www.w3.org/2000/svg\" height=\"24px\" viewBox=\"0 -960 960 960\">\n",
              "    <path d=\"M120-120v-720h720v720H120Zm60-500h600v-160H180v160Zm220 220h160v-160H400v160Zm0 220h160v-160H400v160ZM180-400h160v-160H180v160Zm440 0h160v-160H620v160ZM180-180h160v-160H180v160Zm440 0h160v-160H620v160Z\"/>\n",
              "  </svg>\n",
              "    </button>\n",
              "\n",
              "  <style>\n",
              "    .colab-df-container {\n",
              "      display:flex;\n",
              "      gap: 12px;\n",
              "    }\n",
              "\n",
              "    .colab-df-convert {\n",
              "      background-color: #E8F0FE;\n",
              "      border: none;\n",
              "      border-radius: 50%;\n",
              "      cursor: pointer;\n",
              "      display: none;\n",
              "      fill: #1967D2;\n",
              "      height: 32px;\n",
              "      padding: 0 0 0 0;\n",
              "      width: 32px;\n",
              "    }\n",
              "\n",
              "    .colab-df-convert:hover {\n",
              "      background-color: #E2EBFA;\n",
              "      box-shadow: 0px 1px 2px rgba(60, 64, 67, 0.3), 0px 1px 3px 1px rgba(60, 64, 67, 0.15);\n",
              "      fill: #174EA6;\n",
              "    }\n",
              "\n",
              "    .colab-df-buttons div {\n",
              "      margin-bottom: 4px;\n",
              "    }\n",
              "\n",
              "    [theme=dark] .colab-df-convert {\n",
              "      background-color: #3B4455;\n",
              "      fill: #D2E3FC;\n",
              "    }\n",
              "\n",
              "    [theme=dark] .colab-df-convert:hover {\n",
              "      background-color: #434B5C;\n",
              "      box-shadow: 0px 1px 3px 1px rgba(0, 0, 0, 0.15);\n",
              "      filter: drop-shadow(0px 1px 2px rgba(0, 0, 0, 0.3));\n",
              "      fill: #FFFFFF;\n",
              "    }\n",
              "  </style>\n",
              "\n",
              "    <script>\n",
              "      const buttonEl =\n",
              "        document.querySelector('#df-b6abefa2-a765-472a-8d19-c8e6e3ecd96a button.colab-df-convert');\n",
              "      buttonEl.style.display =\n",
              "        google.colab.kernel.accessAllowed ? 'block' : 'none';\n",
              "\n",
              "      async function convertToInteractive(key) {\n",
              "        const element = document.querySelector('#df-b6abefa2-a765-472a-8d19-c8e6e3ecd96a');\n",
              "        const dataTable =\n",
              "          await google.colab.kernel.invokeFunction('convertToInteractive',\n",
              "                                                    [key], {});\n",
              "        if (!dataTable) return;\n",
              "\n",
              "        const docLinkHtml = 'Like what you see? Visit the ' +\n",
              "          '<a target=\"_blank\" href=https://colab.research.google.com/notebooks/data_table.ipynb>data table notebook</a>'\n",
              "          + ' to learn more about interactive tables.';\n",
              "        element.innerHTML = '';\n",
              "        dataTable['output_type'] = 'display_data';\n",
              "        await google.colab.output.renderOutput(dataTable, element);\n",
              "        const docLink = document.createElement('div');\n",
              "        docLink.innerHTML = docLinkHtml;\n",
              "        element.appendChild(docLink);\n",
              "      }\n",
              "    </script>\n",
              "  </div>\n",
              "\n",
              "\n",
              "    <div id=\"df-d2fcb85f-73db-40f2-ac99-d3fd16ca2331\">\n",
              "      <button class=\"colab-df-quickchart\" onclick=\"quickchart('df-d2fcb85f-73db-40f2-ac99-d3fd16ca2331')\"\n",
              "                title=\"Suggest charts\"\n",
              "                style=\"display:none;\">\n",
              "\n",
              "<svg xmlns=\"http://www.w3.org/2000/svg\" height=\"24px\"viewBox=\"0 0 24 24\"\n",
              "     width=\"24px\">\n",
              "    <g>\n",
              "        <path d=\"M19 3H5c-1.1 0-2 .9-2 2v14c0 1.1.9 2 2 2h14c1.1 0 2-.9 2-2V5c0-1.1-.9-2-2-2zM9 17H7v-7h2v7zm4 0h-2V7h2v10zm4 0h-2v-4h2v4z\"/>\n",
              "    </g>\n",
              "</svg>\n",
              "      </button>\n",
              "\n",
              "<style>\n",
              "  .colab-df-quickchart {\n",
              "      --bg-color: #E8F0FE;\n",
              "      --fill-color: #1967D2;\n",
              "      --hover-bg-color: #E2EBFA;\n",
              "      --hover-fill-color: #174EA6;\n",
              "      --disabled-fill-color: #AAA;\n",
              "      --disabled-bg-color: #DDD;\n",
              "  }\n",
              "\n",
              "  [theme=dark] .colab-df-quickchart {\n",
              "      --bg-color: #3B4455;\n",
              "      --fill-color: #D2E3FC;\n",
              "      --hover-bg-color: #434B5C;\n",
              "      --hover-fill-color: #FFFFFF;\n",
              "      --disabled-bg-color: #3B4455;\n",
              "      --disabled-fill-color: #666;\n",
              "  }\n",
              "\n",
              "  .colab-df-quickchart {\n",
              "    background-color: var(--bg-color);\n",
              "    border: none;\n",
              "    border-radius: 50%;\n",
              "    cursor: pointer;\n",
              "    display: none;\n",
              "    fill: var(--fill-color);\n",
              "    height: 32px;\n",
              "    padding: 0;\n",
              "    width: 32px;\n",
              "  }\n",
              "\n",
              "  .colab-df-quickchart:hover {\n",
              "    background-color: var(--hover-bg-color);\n",
              "    box-shadow: 0 1px 2px rgba(60, 64, 67, 0.3), 0 1px 3px 1px rgba(60, 64, 67, 0.15);\n",
              "    fill: var(--button-hover-fill-color);\n",
              "  }\n",
              "\n",
              "  .colab-df-quickchart-complete:disabled,\n",
              "  .colab-df-quickchart-complete:disabled:hover {\n",
              "    background-color: var(--disabled-bg-color);\n",
              "    fill: var(--disabled-fill-color);\n",
              "    box-shadow: none;\n",
              "  }\n",
              "\n",
              "  .colab-df-spinner {\n",
              "    border: 2px solid var(--fill-color);\n",
              "    border-color: transparent;\n",
              "    border-bottom-color: var(--fill-color);\n",
              "    animation:\n",
              "      spin 1s steps(1) infinite;\n",
              "  }\n",
              "\n",
              "  @keyframes spin {\n",
              "    0% {\n",
              "      border-color: transparent;\n",
              "      border-bottom-color: var(--fill-color);\n",
              "      border-left-color: var(--fill-color);\n",
              "    }\n",
              "    20% {\n",
              "      border-color: transparent;\n",
              "      border-left-color: var(--fill-color);\n",
              "      border-top-color: var(--fill-color);\n",
              "    }\n",
              "    30% {\n",
              "      border-color: transparent;\n",
              "      border-left-color: var(--fill-color);\n",
              "      border-top-color: var(--fill-color);\n",
              "      border-right-color: var(--fill-color);\n",
              "    }\n",
              "    40% {\n",
              "      border-color: transparent;\n",
              "      border-right-color: var(--fill-color);\n",
              "      border-top-color: var(--fill-color);\n",
              "    }\n",
              "    60% {\n",
              "      border-color: transparent;\n",
              "      border-right-color: var(--fill-color);\n",
              "    }\n",
              "    80% {\n",
              "      border-color: transparent;\n",
              "      border-right-color: var(--fill-color);\n",
              "      border-bottom-color: var(--fill-color);\n",
              "    }\n",
              "    90% {\n",
              "      border-color: transparent;\n",
              "      border-bottom-color: var(--fill-color);\n",
              "    }\n",
              "  }\n",
              "</style>\n",
              "\n",
              "      <script>\n",
              "        async function quickchart(key) {\n",
              "          const quickchartButtonEl =\n",
              "            document.querySelector('#' + key + ' button');\n",
              "          quickchartButtonEl.disabled = true;  // To prevent multiple clicks.\n",
              "          quickchartButtonEl.classList.add('colab-df-spinner');\n",
              "          try {\n",
              "            const charts = await google.colab.kernel.invokeFunction(\n",
              "                'suggestCharts', [key], {});\n",
              "          } catch (error) {\n",
              "            console.error('Error during call to suggestCharts:', error);\n",
              "          }\n",
              "          quickchartButtonEl.classList.remove('colab-df-spinner');\n",
              "          quickchartButtonEl.classList.add('colab-df-quickchart-complete');\n",
              "        }\n",
              "        (() => {\n",
              "          let quickchartButtonEl =\n",
              "            document.querySelector('#df-d2fcb85f-73db-40f2-ac99-d3fd16ca2331 button');\n",
              "          quickchartButtonEl.style.display =\n",
              "            google.colab.kernel.accessAllowed ? 'block' : 'none';\n",
              "        })();\n",
              "      </script>\n",
              "    </div>\n",
              "\n",
              "    </div>\n",
              "  </div>\n"
            ],
            "application/vnd.google.colaboratory.intrinsic+json": {
              "type": "dataframe",
              "variable_name": "data",
              "summary": "{\n  \"name\": \"data\",\n  \"rows\": 44898,\n  \"fields\": [\n    {\n      \"column\": \"title\",\n      \"properties\": {\n        \"dtype\": \"string\",\n        \"num_unique_values\": 38729,\n        \"samples\": [\n          \"France's Macron says received no request to host ex-Lebanese PM Hariri in France\",\n          \"GOP Official Drops Bombshell During Angry Debate With Lou Dobbs Over John Kelly [Video]\",\n          \"Trump says Puerto Ricans are 'wonderful,' have 'unmatched spirit'\"\n        ],\n        \"semantic_type\": \"\",\n        \"description\": \"\"\n      }\n    },\n    {\n      \"column\": \"text\",\n      \"properties\": {\n        \"dtype\": \"string\",\n        \"num_unique_values\": 38646,\n        \"samples\": [\n          \"HARARE (Reuters) - A high court judge in Zimbabwe said on Thursday the state s case against a U.S. citizen charged with trying to subvert President Robert Mugabe s government lacked facts and ordered that she be granted bail. Martha O Donovan has been in prison since Saturday, a day after she was arrested on accusations of insulting Mugabe in a Twitter post. Police later leveled the more serious charge of subversion, which carries a possible 20-year jail term. She denies both charges. O Donovan works for Magamba TV, which describes itself as Zimbabwe s leading producer of political satire. In granting her bail, High Court Judge Clement Phiri said there was a  patent absence of facts  in the state s case.  The applicant has demonstrated that she should be granted bail. It is my finding that it is in the interests of justice that the applicant be given bail,  Phiri said. O Donovan was not in court. Phiri ordered her to deposit $1,000 with the court, surrender her passport and report to the criminal investigations department twice a week as part of her bail conditions. Her lawyer Obey Shava said O Donovan would be released on Friday after completing administrative procedures. Amnesty International said in a statement the case showed that Zimbabwean authorities had contempt for freedom of expression. The state s case centers on a Twitter post it says she wrote in October calling Mugabe a  selfish and sick man . The government set up a Ministry of Cyber Security last month. Zimbabwe is facing acute shortages of foreign exchange and cash. The country is also concerned with who will succeed Mugabe, 93, who has ruled since independence from Britain in 1980. He plans to contest next year s election. This week Mugabe fired his deputy Emmerson Mnangagwa from the government and ruling party for  disloyalty . Mnangagawa was seen as a potential successor.  Formal opposition to Mugabe is limited but the government is wary of social media. Last year, activists including pastor Evan Mawarire used it to organize the #ThisFlag movement. Its stay-at-home demonstration was the biggest protest in a decade. \",\n          \"This is probably the best seen from Judge Jeanine   she nails Obama!  Police brutality is color blind    Judge Jeanine \",\n          \"The New York Post reported: Melania is extremely close to Barron, and they have become closer during the campaign,  said a source close to Trump s transition team.  The campaign has been difficult for Barron, and she is really hoping to keep disruption to a minimum. Another source said Melania Trump will travel to the White House as needed, but that her primary focus is on Barron. Melania is very supportive of her husband and is fully on board of doing everything that s needed as first lady,  said the second source familiar with the Trump transition.That source said also that there is a possibility that Melania and Barron may move to the White House at the end of the school year, but no plans are in place. She is really devoted to Barron,  said a source close to the family, adding that Melania has not relied on nannies to raise the child and is frequently seen picking the fourth-grader up from his prep school, where tuition is north of $40,000.Barron and Melania will each have an unknown number of Secret Service agents assigned to them in addition to a driver and armored vehicle to take Barron to school, Reese said. An advance team of agents will swoop down on the school each morning to make sure it s safe, he added. Read more: NYPBarron and Melania Trump got a taste of what their life will be like when they dropped in to have lunch at a local NYC restaurant. Serafina became a gawker s paradise when the two were spotted with Secret Service in tow:The spotlight was on this family before but will certainly be on them now that they re the First Family.Let s hope that Barron won t be picked apart by the main stream media.He s already receiving attention from around the world Barron has been named a  Manga Idol  in Japan. That means  beautiful boy \"\n        ],\n        \"semantic_type\": \"\",\n        \"description\": \"\"\n      }\n    },\n    {\n      \"column\": \"date\",\n      \"properties\": {\n        \"dtype\": \"category\",\n        \"num_unique_values\": 2397,\n        \"samples\": [\n          \"March 13, 2016\",\n          \"Jul 15, 2016\",\n          \"March 23, 2016 \"\n        ],\n        \"semantic_type\": \"\",\n        \"description\": \"\"\n      }\n    },\n    {\n      \"column\": \"label\",\n      \"properties\": {\n        \"dtype\": \"number\",\n        \"std\": 0,\n        \"min\": 0,\n        \"max\": 1,\n        \"num_unique_values\": 2,\n        \"samples\": [\n          1,\n          0\n        ],\n        \"semantic_type\": \"\",\n        \"description\": \"\"\n      }\n    },\n    {\n      \"column\": \"subject_Government News\",\n      \"properties\": {\n        \"dtype\": \"boolean\",\n        \"num_unique_values\": 2,\n        \"samples\": [\n          true,\n          false\n        ],\n        \"semantic_type\": \"\",\n        \"description\": \"\"\n      }\n    },\n    {\n      \"column\": \"subject_Middle-east\",\n      \"properties\": {\n        \"dtype\": \"boolean\",\n        \"num_unique_values\": 2,\n        \"samples\": [\n          true,\n          false\n        ],\n        \"semantic_type\": \"\",\n        \"description\": \"\"\n      }\n    },\n    {\n      \"column\": \"subject_News\",\n      \"properties\": {\n        \"dtype\": \"boolean\",\n        \"num_unique_values\": 2,\n        \"samples\": [\n          false,\n          true\n        ],\n        \"semantic_type\": \"\",\n        \"description\": \"\"\n      }\n    },\n    {\n      \"column\": \"subject_US_News\",\n      \"properties\": {\n        \"dtype\": \"boolean\",\n        \"num_unique_values\": 2,\n        \"samples\": [\n          true,\n          false\n        ],\n        \"semantic_type\": \"\",\n        \"description\": \"\"\n      }\n    },\n    {\n      \"column\": \"subject_left-news\",\n      \"properties\": {\n        \"dtype\": \"boolean\",\n        \"num_unique_values\": 2,\n        \"samples\": [\n          true,\n          false\n        ],\n        \"semantic_type\": \"\",\n        \"description\": \"\"\n      }\n    },\n    {\n      \"column\": \"subject_politics\",\n      \"properties\": {\n        \"dtype\": \"boolean\",\n        \"num_unique_values\": 2,\n        \"samples\": [\n          true,\n          false\n        ],\n        \"semantic_type\": \"\",\n        \"description\": \"\"\n      }\n    },\n    {\n      \"column\": \"subject_politicsNews\",\n      \"properties\": {\n        \"dtype\": \"boolean\",\n        \"num_unique_values\": 2,\n        \"samples\": [\n          true,\n          false\n        ],\n        \"semantic_type\": \"\",\n        \"description\": \"\"\n      }\n    },\n    {\n      \"column\": \"subject_worldnews\",\n      \"properties\": {\n        \"dtype\": \"boolean\",\n        \"num_unique_values\": 2,\n        \"samples\": [\n          true,\n          false\n        ],\n        \"semantic_type\": \"\",\n        \"description\": \"\"\n      }\n    }\n  ]\n}"
            }
          },
          "metadata": {},
          "execution_count": 27
        }
      ],
      "source": [
        "data = pd.get_dummies(data,columns=[\"subject\"])\n",
        "data.head()"
      ]
    },
    {
      "cell_type": "code",
      "execution_count": 28,
      "metadata": {
        "execution": {
          "iopub.execute_input": "2020-10-22T13:19:00.384079Z",
          "iopub.status.busy": "2020-10-22T13:19:00.383297Z",
          "iopub.status.idle": "2020-10-22T13:19:00.416506Z",
          "shell.execute_reply": "2020-10-22T13:19:00.415528Z"
        },
        "papermill": {
          "duration": 0.082959,
          "end_time": "2020-10-22T13:19:00.416729",
          "exception": false,
          "start_time": "2020-10-22T13:19:00.333770",
          "status": "completed"
        },
        "tags": [],
        "colab": {
          "base_uri": "https://localhost:8080/"
        },
        "id": "CAdYD7kShts-",
        "outputId": "1ed78854-53c4-45c7-dc06-5517200f9bed"
      },
      "outputs": [
        {
          "output_type": "stream",
          "name": "stdout",
          "text": [
            "<class 'pandas.core.frame.DataFrame'>\n",
            "Index: 44898 entries, 3414 to 18981\n",
            "Data columns (total 11 columns):\n",
            " #   Column                   Non-Null Count  Dtype \n",
            "---  ------                   --------------  ----- \n",
            " 0   title                    44898 non-null  object\n",
            " 1   text                     44898 non-null  object\n",
            " 2   label                    44898 non-null  int64 \n",
            " 3   subject_Government News  44898 non-null  bool  \n",
            " 4   subject_Middle-east      44898 non-null  bool  \n",
            " 5   subject_News             44898 non-null  bool  \n",
            " 6   subject_US_News          44898 non-null  bool  \n",
            " 7   subject_left-news        44898 non-null  bool  \n",
            " 8   subject_politics         44898 non-null  bool  \n",
            " 9   subject_politicsNews     44898 non-null  bool  \n",
            " 10  subject_worldnews        44898 non-null  bool  \n",
            "dtypes: bool(8), int64(1), object(2)\n",
            "memory usage: 1.7+ MB\n"
          ]
        }
      ],
      "source": [
        "data = data.drop(\"date\",axis=1)\n",
        "data.info()"
      ]
    },
    {
      "cell_type": "markdown",
      "metadata": {
        "papermill": {
          "duration": 0.044334,
          "end_time": "2020-10-22T13:19:00.503911",
          "exception": false,
          "start_time": "2020-10-22T13:19:00.459577",
          "status": "completed"
        },
        "tags": [],
        "id": "Wg7Cv68Dhts-"
      },
      "source": [
        "## NLP"
      ]
    },
    {
      "cell_type": "code",
      "execution_count": 33,
      "metadata": {
        "execution": {
          "iopub.execute_input": "2020-10-22T13:19:00.605076Z",
          "iopub.status.busy": "2020-10-22T13:19:00.604234Z",
          "iopub.status.idle": "2020-10-22T13:24:23.603542Z",
          "shell.execute_reply": "2020-10-22T13:24:23.604187Z"
        },
        "papermill": {
          "duration": 323.051993,
          "end_time": "2020-10-22T13:24:23.604394",
          "exception": false,
          "start_time": "2020-10-22T13:19:00.552401",
          "status": "completed"
        },
        "tags": [],
        "colab": {
          "base_uri": "https://localhost:8080/",
          "height": 209
        },
        "id": "HtwZIKJdhts-",
        "outputId": "ea1b065f-c39c-4edb-e348-24b9af8675c7"
      },
      "outputs": [
        {
          "output_type": "stream",
          "name": "stderr",
          "text": [
            "[nltk_data] Downloading package punkt_tab to /root/nltk_data...\n",
            "[nltk_data]   Package punkt_tab is already up-to-date!\n",
            "[nltk_data] Downloading package wordnet to /root/nltk_data...\n",
            "[nltk_data]   Package wordnet is already up-to-date!\n",
            "100%|██████████| 44898/44898 [03:10<00:00, 235.52it/s]\n"
          ]
        },
        {
          "output_type": "execute_result",
          "data": {
            "text/plain": [
              "'quid pro quo in the trump russia situation is happening sooner than expected at least according to russian official you know they give him a gift by using hacking a propaganda to hand him the election and trump build a nightmarish team for himself that will be very friendly to russia so friendly in fact that the kremlin is pretty openly celebrating trump s newest gift to them thus far the donald ha filled his cabinet to the brim with so many pro russian people that stolichnaya stock have gone through the roof just joking don t bother googling that seriously though russia is thrilled with trump s selection so far but it is rex tillerson s nomination for secretary of state that a the guardian note confirms vladimir putin a one of the strategic victor of the u presidential election the wall street journal note that friend and associate said few u citizen are closer to mr putin than mr tillerson and of course tillerson will now be in a position to make a f ckton of money in his new position a the guardian point out the exxon rosneft agreement wa frozen when sanction were imposed on russia in following the annexation of crimea and covert military intervention in eastern ukraine exxon mobil estimated the sanction cost it bn and tillerson ha argued strenuously for the measure to be lifted we always encourage the people who are making those decision to consider the very broad collateral damage of who are they really harming with sanction he said at a shareholder meeting in june two year after sanction were imposed and in an apparent show of support for sechin tillerson reportedly turned up at a st petersburg economic summit if the sanction were lifted the arctic project would probably go ahead and tillerson s retirement fund of exxon mobil stock would increase in value he would most likely have to divest himself of stock by the time he entered the office on the seventh floor of the state department it might be harder to divorce his judgment entirely from the oil company where he spent his career tillerson s nomination can be called a lot of thing but pro kremlin russian political commentator sergei markov call it what it is some kind of christmas gift from the american people to the russian people especially in light of the artificial cold war that wa started with russia over the country s involvement in hacking donald trump s political enemy for him at his request no less fyodor lukyanov head of the council on foreign and defense policy which advises the kremlin say that tillerson represents profound change in u s foreign policy that stand to favor russia heavily mr tillerson is very well known to the important people here and neither mr putin nor the others will need time to learn who he is and how to deal with him lukyanov say this news is better than any other possible person for this position at this point how can we allow donald trump to assume power on january elector have the weight of the world on their shoulder a december approach will they do nothing and allow a tyrant installed by a foreign power to take office or will they do the right thing and say no more featured image via getty image alexey druzhinin'"
            ],
            "application/vnd.google.colaboratory.intrinsic+json": {
              "type": "string"
            }
          },
          "metadata": {},
          "execution_count": 33
        }
      ],
      "source": [
        "import nltk\n",
        "from tqdm import tqdm\n",
        "nltk.download('punkt_tab')\n",
        "nltk.download('wordnet')\n",
        "new_text = []\n",
        "pattern = \"[^a-zA-Z]\"\n",
        "lemma = nltk.WordNetLemmatizer()\n",
        "\n",
        "for txt in tqdm(data.text):\n",
        "\n",
        "    txt = re.sub(pattern,\" \",txt) # Cleaning\n",
        "    txt = txt.lower() # Lowering\n",
        "    txt = nltk.word_tokenize(txt) # Tokenizing\n",
        "    txt = [lemma.lemmatize(word) for word in txt] # Lemmatizing\n",
        "    txt = \" \".join(txt)\n",
        "    new_text.append(txt)\n",
        "\n",
        "\n",
        "new_text[0]\n",
        ""
      ]
    },
    {
      "cell_type": "code",
      "execution_count": 34,
      "metadata": {
        "execution": {
          "iopub.execute_input": "2020-10-22T13:24:23.723873Z",
          "iopub.status.busy": "2020-10-22T13:24:23.713305Z",
          "iopub.status.idle": "2020-10-22T13:24:39.324303Z",
          "shell.execute_reply": "2020-10-22T13:24:39.323490Z"
        },
        "papermill": {
          "duration": 15.680556,
          "end_time": "2020-10-22T13:24:39.324448",
          "exception": false,
          "start_time": "2020-10-22T13:24:23.643892",
          "status": "completed"
        },
        "tags": [],
        "colab": {
          "base_uri": "https://localhost:8080/",
          "height": 53
        },
        "id": "xTYUptDMhts-",
        "outputId": "e713c10a-567b-431b-c69b-ae29a854bd3d"
      },
      "outputs": [
        {
          "output_type": "stream",
          "name": "stderr",
          "text": [
            "100%|██████████| 44898/44898 [00:08<00:00, 5576.97it/s]\n"
          ]
        },
        {
          "output_type": "execute_result",
          "data": {
            "text/plain": [
              "'breaking russian official celebrate rex tillerson a a gift from trump to russia'"
            ],
            "application/vnd.google.colaboratory.intrinsic+json": {
              "type": "string"
            }
          },
          "metadata": {},
          "execution_count": 34
        }
      ],
      "source": [
        "new_title = []\n",
        "for txt in tqdm(data.title):\n",
        "\n",
        "    txt = re.sub(pattern,\" \",txt) # Cleaning\n",
        "    txt = txt.lower() # Lowering\n",
        "    txt = nltk.word_tokenize(txt) # Tokenizing\n",
        "    txt = [lemma.lemmatize(word) for word in txt] # Lemmatizing\n",
        "    txt = \" \".join(txt)\n",
        "    new_title.append(txt)\n",
        "new_title[0]\n"
      ]
    },
    {
      "cell_type": "markdown",
      "metadata": {
        "papermill": {
          "duration": 0.040541,
          "end_time": "2020-10-22T13:24:39.407631",
          "exception": false,
          "start_time": "2020-10-22T13:24:39.367090",
          "status": "completed"
        },
        "tags": [],
        "id": "zIvJsVq2hts-"
      },
      "source": [
        "Creating sparse matrices\n"
      ]
    },
    {
      "cell_type": "code",
      "execution_count": 35,
      "metadata": {
        "execution": {
          "iopub.execute_input": "2020-10-22T13:24:39.560778Z",
          "iopub.status.busy": "2020-10-22T13:24:39.524674Z",
          "iopub.status.idle": "2020-10-22T13:25:06.551006Z",
          "shell.execute_reply": "2020-10-22T13:25:06.548890Z"
        },
        "papermill": {
          "duration": 27.103346,
          "end_time": "2020-10-22T13:25:06.551274",
          "exception": false,
          "start_time": "2020-10-22T13:24:39.447928",
          "status": "completed"
        },
        "tags": [],
        "id": "VJQ2uKe8hts-"
      },
      "outputs": [],
      "source": [
        "vectorizer_title = CountVectorizer(stop_words=\"english\",max_features=1000)\n",
        "vectorizer_text = CountVectorizer(stop_words=\"english\",max_features=4000)\n",
        "\n",
        "title_matrix = vectorizer_title.fit_transform(new_title).toarray()\n",
        "text_matrix = vectorizer_text.fit_transform(new_text).toarray()"
      ]
    },
    {
      "cell_type": "code",
      "execution_count": 36,
      "metadata": {
        "execution": {
          "iopub.execute_input": "2020-10-22T13:25:06.815495Z",
          "iopub.status.busy": "2020-10-22T13:25:06.814385Z",
          "iopub.status.idle": "2020-10-22T13:25:06.845143Z",
          "shell.execute_reply": "2020-10-22T13:25:06.843554Z"
        },
        "papermill": {
          "duration": 0.111607,
          "end_time": "2020-10-22T13:25:06.845361",
          "exception": false,
          "start_time": "2020-10-22T13:25:06.733754",
          "status": "completed"
        },
        "tags": [],
        "colab": {
          "base_uri": "https://localhost:8080/",
          "height": 501
        },
        "id": "hCD3XpGghts_",
        "outputId": "76ea9a09-8de5-4a46-a739-63accf9008ba"
      },
      "outputs": [
        {
          "output_type": "execute_result",
          "data": {
            "text/plain": [
              "                                                   title  \\\n",
              "3414    BREAKING: Russian Officials Celebrate Rex Til...   \n",
              "17247  China will not deviate from path of reform, sa...   \n",
              "17285  Venezuela vote dispute escalates foreign sanct...   \n",
              "21408  SAY WHAT? Tide Detergent Joins Forces With Ope...   \n",
              "9170   HOW IS THIS POSSIBLE? LATINO IMMIGRANT, ANTI-T...   \n",
              "\n",
              "                                                    text  label  \\\n",
              "3414   Quid pro quo in the Trump/Russia situation is ...      0   \n",
              "17247   BEIJING (Reuters) - China has set a clear dir...      1   \n",
              "17285  CARACAS (Reuters) - Venezuela s opposition cri...      1   \n",
              "21408  I wish there was some way I could let Tide Det...      0   \n",
              "9170   The fact that it has taken so long to uncover ...      0   \n",
              "\n",
              "       subject_Government News  subject_Middle-east  subject_News  \\\n",
              "3414                     False                False          True   \n",
              "17247                    False                False         False   \n",
              "17285                    False                False         False   \n",
              "21408                    False                False         False   \n",
              "9170                     False                False         False   \n",
              "\n",
              "       subject_US_News  subject_left-news  subject_politics  \\\n",
              "3414             False              False             False   \n",
              "17247            False              False             False   \n",
              "17285            False              False             False   \n",
              "21408            False               True             False   \n",
              "9170             False              False              True   \n",
              "\n",
              "       subject_politicsNews  subject_worldnews  \n",
              "3414                  False              False  \n",
              "17247                 False               True  \n",
              "17285                 False               True  \n",
              "21408                 False              False  \n",
              "9170                  False              False  "
            ],
            "text/html": [
              "\n",
              "  <div id=\"df-e5db5d2b-47b4-4f52-8649-1a65dc65130d\" class=\"colab-df-container\">\n",
              "    <div>\n",
              "<style scoped>\n",
              "    .dataframe tbody tr th:only-of-type {\n",
              "        vertical-align: middle;\n",
              "    }\n",
              "\n",
              "    .dataframe tbody tr th {\n",
              "        vertical-align: top;\n",
              "    }\n",
              "\n",
              "    .dataframe thead th {\n",
              "        text-align: right;\n",
              "    }\n",
              "</style>\n",
              "<table border=\"1\" class=\"dataframe\">\n",
              "  <thead>\n",
              "    <tr style=\"text-align: right;\">\n",
              "      <th></th>\n",
              "      <th>title</th>\n",
              "      <th>text</th>\n",
              "      <th>label</th>\n",
              "      <th>subject_Government News</th>\n",
              "      <th>subject_Middle-east</th>\n",
              "      <th>subject_News</th>\n",
              "      <th>subject_US_News</th>\n",
              "      <th>subject_left-news</th>\n",
              "      <th>subject_politics</th>\n",
              "      <th>subject_politicsNews</th>\n",
              "      <th>subject_worldnews</th>\n",
              "    </tr>\n",
              "  </thead>\n",
              "  <tbody>\n",
              "    <tr>\n",
              "      <th>3414</th>\n",
              "      <td>BREAKING: Russian Officials Celebrate Rex Til...</td>\n",
              "      <td>Quid pro quo in the Trump/Russia situation is ...</td>\n",
              "      <td>0</td>\n",
              "      <td>False</td>\n",
              "      <td>False</td>\n",
              "      <td>True</td>\n",
              "      <td>False</td>\n",
              "      <td>False</td>\n",
              "      <td>False</td>\n",
              "      <td>False</td>\n",
              "      <td>False</td>\n",
              "    </tr>\n",
              "    <tr>\n",
              "      <th>17247</th>\n",
              "      <td>China will not deviate from path of reform, sa...</td>\n",
              "      <td>BEIJING (Reuters) - China has set a clear dir...</td>\n",
              "      <td>1</td>\n",
              "      <td>False</td>\n",
              "      <td>False</td>\n",
              "      <td>False</td>\n",
              "      <td>False</td>\n",
              "      <td>False</td>\n",
              "      <td>False</td>\n",
              "      <td>False</td>\n",
              "      <td>True</td>\n",
              "    </tr>\n",
              "    <tr>\n",
              "      <th>17285</th>\n",
              "      <td>Venezuela vote dispute escalates foreign sanct...</td>\n",
              "      <td>CARACAS (Reuters) - Venezuela s opposition cri...</td>\n",
              "      <td>1</td>\n",
              "      <td>False</td>\n",
              "      <td>False</td>\n",
              "      <td>False</td>\n",
              "      <td>False</td>\n",
              "      <td>False</td>\n",
              "      <td>False</td>\n",
              "      <td>False</td>\n",
              "      <td>True</td>\n",
              "    </tr>\n",
              "    <tr>\n",
              "      <th>21408</th>\n",
              "      <td>SAY WHAT? Tide Detergent Joins Forces With Ope...</td>\n",
              "      <td>I wish there was some way I could let Tide Det...</td>\n",
              "      <td>0</td>\n",
              "      <td>False</td>\n",
              "      <td>False</td>\n",
              "      <td>False</td>\n",
              "      <td>False</td>\n",
              "      <td>True</td>\n",
              "      <td>False</td>\n",
              "      <td>False</td>\n",
              "      <td>False</td>\n",
              "    </tr>\n",
              "    <tr>\n",
              "      <th>9170</th>\n",
              "      <td>HOW IS THIS POSSIBLE? LATINO IMMIGRANT, ANTI-T...</td>\n",
              "      <td>The fact that it has taken so long to uncover ...</td>\n",
              "      <td>0</td>\n",
              "      <td>False</td>\n",
              "      <td>False</td>\n",
              "      <td>False</td>\n",
              "      <td>False</td>\n",
              "      <td>False</td>\n",
              "      <td>True</td>\n",
              "      <td>False</td>\n",
              "      <td>False</td>\n",
              "    </tr>\n",
              "  </tbody>\n",
              "</table>\n",
              "</div>\n",
              "    <div class=\"colab-df-buttons\">\n",
              "\n",
              "  <div class=\"colab-df-container\">\n",
              "    <button class=\"colab-df-convert\" onclick=\"convertToInteractive('df-e5db5d2b-47b4-4f52-8649-1a65dc65130d')\"\n",
              "            title=\"Convert this dataframe to an interactive table.\"\n",
              "            style=\"display:none;\">\n",
              "\n",
              "  <svg xmlns=\"http://www.w3.org/2000/svg\" height=\"24px\" viewBox=\"0 -960 960 960\">\n",
              "    <path d=\"M120-120v-720h720v720H120Zm60-500h600v-160H180v160Zm220 220h160v-160H400v160Zm0 220h160v-160H400v160ZM180-400h160v-160H180v160Zm440 0h160v-160H620v160ZM180-180h160v-160H180v160Zm440 0h160v-160H620v160Z\"/>\n",
              "  </svg>\n",
              "    </button>\n",
              "\n",
              "  <style>\n",
              "    .colab-df-container {\n",
              "      display:flex;\n",
              "      gap: 12px;\n",
              "    }\n",
              "\n",
              "    .colab-df-convert {\n",
              "      background-color: #E8F0FE;\n",
              "      border: none;\n",
              "      border-radius: 50%;\n",
              "      cursor: pointer;\n",
              "      display: none;\n",
              "      fill: #1967D2;\n",
              "      height: 32px;\n",
              "      padding: 0 0 0 0;\n",
              "      width: 32px;\n",
              "    }\n",
              "\n",
              "    .colab-df-convert:hover {\n",
              "      background-color: #E2EBFA;\n",
              "      box-shadow: 0px 1px 2px rgba(60, 64, 67, 0.3), 0px 1px 3px 1px rgba(60, 64, 67, 0.15);\n",
              "      fill: #174EA6;\n",
              "    }\n",
              "\n",
              "    .colab-df-buttons div {\n",
              "      margin-bottom: 4px;\n",
              "    }\n",
              "\n",
              "    [theme=dark] .colab-df-convert {\n",
              "      background-color: #3B4455;\n",
              "      fill: #D2E3FC;\n",
              "    }\n",
              "\n",
              "    [theme=dark] .colab-df-convert:hover {\n",
              "      background-color: #434B5C;\n",
              "      box-shadow: 0px 1px 3px 1px rgba(0, 0, 0, 0.15);\n",
              "      filter: drop-shadow(0px 1px 2px rgba(0, 0, 0, 0.3));\n",
              "      fill: #FFFFFF;\n",
              "    }\n",
              "  </style>\n",
              "\n",
              "    <script>\n",
              "      const buttonEl =\n",
              "        document.querySelector('#df-e5db5d2b-47b4-4f52-8649-1a65dc65130d button.colab-df-convert');\n",
              "      buttonEl.style.display =\n",
              "        google.colab.kernel.accessAllowed ? 'block' : 'none';\n",
              "\n",
              "      async function convertToInteractive(key) {\n",
              "        const element = document.querySelector('#df-e5db5d2b-47b4-4f52-8649-1a65dc65130d');\n",
              "        const dataTable =\n",
              "          await google.colab.kernel.invokeFunction('convertToInteractive',\n",
              "                                                    [key], {});\n",
              "        if (!dataTable) return;\n",
              "\n",
              "        const docLinkHtml = 'Like what you see? Visit the ' +\n",
              "          '<a target=\"_blank\" href=https://colab.research.google.com/notebooks/data_table.ipynb>data table notebook</a>'\n",
              "          + ' to learn more about interactive tables.';\n",
              "        element.innerHTML = '';\n",
              "        dataTable['output_type'] = 'display_data';\n",
              "        await google.colab.output.renderOutput(dataTable, element);\n",
              "        const docLink = document.createElement('div');\n",
              "        docLink.innerHTML = docLinkHtml;\n",
              "        element.appendChild(docLink);\n",
              "      }\n",
              "    </script>\n",
              "  </div>\n",
              "\n",
              "\n",
              "    <div id=\"df-346bd489-2db6-4010-9bc6-08e7b2b79936\">\n",
              "      <button class=\"colab-df-quickchart\" onclick=\"quickchart('df-346bd489-2db6-4010-9bc6-08e7b2b79936')\"\n",
              "                title=\"Suggest charts\"\n",
              "                style=\"display:none;\">\n",
              "\n",
              "<svg xmlns=\"http://www.w3.org/2000/svg\" height=\"24px\"viewBox=\"0 0 24 24\"\n",
              "     width=\"24px\">\n",
              "    <g>\n",
              "        <path d=\"M19 3H5c-1.1 0-2 .9-2 2v14c0 1.1.9 2 2 2h14c1.1 0 2-.9 2-2V5c0-1.1-.9-2-2-2zM9 17H7v-7h2v7zm4 0h-2V7h2v10zm4 0h-2v-4h2v4z\"/>\n",
              "    </g>\n",
              "</svg>\n",
              "      </button>\n",
              "\n",
              "<style>\n",
              "  .colab-df-quickchart {\n",
              "      --bg-color: #E8F0FE;\n",
              "      --fill-color: #1967D2;\n",
              "      --hover-bg-color: #E2EBFA;\n",
              "      --hover-fill-color: #174EA6;\n",
              "      --disabled-fill-color: #AAA;\n",
              "      --disabled-bg-color: #DDD;\n",
              "  }\n",
              "\n",
              "  [theme=dark] .colab-df-quickchart {\n",
              "      --bg-color: #3B4455;\n",
              "      --fill-color: #D2E3FC;\n",
              "      --hover-bg-color: #434B5C;\n",
              "      --hover-fill-color: #FFFFFF;\n",
              "      --disabled-bg-color: #3B4455;\n",
              "      --disabled-fill-color: #666;\n",
              "  }\n",
              "\n",
              "  .colab-df-quickchart {\n",
              "    background-color: var(--bg-color);\n",
              "    border: none;\n",
              "    border-radius: 50%;\n",
              "    cursor: pointer;\n",
              "    display: none;\n",
              "    fill: var(--fill-color);\n",
              "    height: 32px;\n",
              "    padding: 0;\n",
              "    width: 32px;\n",
              "  }\n",
              "\n",
              "  .colab-df-quickchart:hover {\n",
              "    background-color: var(--hover-bg-color);\n",
              "    box-shadow: 0 1px 2px rgba(60, 64, 67, 0.3), 0 1px 3px 1px rgba(60, 64, 67, 0.15);\n",
              "    fill: var(--button-hover-fill-color);\n",
              "  }\n",
              "\n",
              "  .colab-df-quickchart-complete:disabled,\n",
              "  .colab-df-quickchart-complete:disabled:hover {\n",
              "    background-color: var(--disabled-bg-color);\n",
              "    fill: var(--disabled-fill-color);\n",
              "    box-shadow: none;\n",
              "  }\n",
              "\n",
              "  .colab-df-spinner {\n",
              "    border: 2px solid var(--fill-color);\n",
              "    border-color: transparent;\n",
              "    border-bottom-color: var(--fill-color);\n",
              "    animation:\n",
              "      spin 1s steps(1) infinite;\n",
              "  }\n",
              "\n",
              "  @keyframes spin {\n",
              "    0% {\n",
              "      border-color: transparent;\n",
              "      border-bottom-color: var(--fill-color);\n",
              "      border-left-color: var(--fill-color);\n",
              "    }\n",
              "    20% {\n",
              "      border-color: transparent;\n",
              "      border-left-color: var(--fill-color);\n",
              "      border-top-color: var(--fill-color);\n",
              "    }\n",
              "    30% {\n",
              "      border-color: transparent;\n",
              "      border-left-color: var(--fill-color);\n",
              "      border-top-color: var(--fill-color);\n",
              "      border-right-color: var(--fill-color);\n",
              "    }\n",
              "    40% {\n",
              "      border-color: transparent;\n",
              "      border-right-color: var(--fill-color);\n",
              "      border-top-color: var(--fill-color);\n",
              "    }\n",
              "    60% {\n",
              "      border-color: transparent;\n",
              "      border-right-color: var(--fill-color);\n",
              "    }\n",
              "    80% {\n",
              "      border-color: transparent;\n",
              "      border-right-color: var(--fill-color);\n",
              "      border-bottom-color: var(--fill-color);\n",
              "    }\n",
              "    90% {\n",
              "      border-color: transparent;\n",
              "      border-bottom-color: var(--fill-color);\n",
              "    }\n",
              "  }\n",
              "</style>\n",
              "\n",
              "      <script>\n",
              "        async function quickchart(key) {\n",
              "          const quickchartButtonEl =\n",
              "            document.querySelector('#' + key + ' button');\n",
              "          quickchartButtonEl.disabled = true;  // To prevent multiple clicks.\n",
              "          quickchartButtonEl.classList.add('colab-df-spinner');\n",
              "          try {\n",
              "            const charts = await google.colab.kernel.invokeFunction(\n",
              "                'suggestCharts', [key], {});\n",
              "          } catch (error) {\n",
              "            console.error('Error during call to suggestCharts:', error);\n",
              "          }\n",
              "          quickchartButtonEl.classList.remove('colab-df-spinner');\n",
              "          quickchartButtonEl.classList.add('colab-df-quickchart-complete');\n",
              "        }\n",
              "        (() => {\n",
              "          let quickchartButtonEl =\n",
              "            document.querySelector('#df-346bd489-2db6-4010-9bc6-08e7b2b79936 button');\n",
              "          quickchartButtonEl.style.display =\n",
              "            google.colab.kernel.accessAllowed ? 'block' : 'none';\n",
              "        })();\n",
              "      </script>\n",
              "    </div>\n",
              "\n",
              "    </div>\n",
              "  </div>\n"
            ],
            "application/vnd.google.colaboratory.intrinsic+json": {
              "type": "dataframe",
              "variable_name": "data",
              "summary": "{\n  \"name\": \"data\",\n  \"rows\": 44898,\n  \"fields\": [\n    {\n      \"column\": \"title\",\n      \"properties\": {\n        \"dtype\": \"string\",\n        \"num_unique_values\": 38729,\n        \"samples\": [\n          \"France's Macron says received no request to host ex-Lebanese PM Hariri in France\",\n          \"GOP Official Drops Bombshell During Angry Debate With Lou Dobbs Over John Kelly [Video]\",\n          \"Trump says Puerto Ricans are 'wonderful,' have 'unmatched spirit'\"\n        ],\n        \"semantic_type\": \"\",\n        \"description\": \"\"\n      }\n    },\n    {\n      \"column\": \"text\",\n      \"properties\": {\n        \"dtype\": \"string\",\n        \"num_unique_values\": 38646,\n        \"samples\": [\n          \"HARARE (Reuters) - A high court judge in Zimbabwe said on Thursday the state s case against a U.S. citizen charged with trying to subvert President Robert Mugabe s government lacked facts and ordered that she be granted bail. Martha O Donovan has been in prison since Saturday, a day after she was arrested on accusations of insulting Mugabe in a Twitter post. Police later leveled the more serious charge of subversion, which carries a possible 20-year jail term. She denies both charges. O Donovan works for Magamba TV, which describes itself as Zimbabwe s leading producer of political satire. In granting her bail, High Court Judge Clement Phiri said there was a  patent absence of facts  in the state s case.  The applicant has demonstrated that she should be granted bail. It is my finding that it is in the interests of justice that the applicant be given bail,  Phiri said. O Donovan was not in court. Phiri ordered her to deposit $1,000 with the court, surrender her passport and report to the criminal investigations department twice a week as part of her bail conditions. Her lawyer Obey Shava said O Donovan would be released on Friday after completing administrative procedures. Amnesty International said in a statement the case showed that Zimbabwean authorities had contempt for freedom of expression. The state s case centers on a Twitter post it says she wrote in October calling Mugabe a  selfish and sick man . The government set up a Ministry of Cyber Security last month. Zimbabwe is facing acute shortages of foreign exchange and cash. The country is also concerned with who will succeed Mugabe, 93, who has ruled since independence from Britain in 1980. He plans to contest next year s election. This week Mugabe fired his deputy Emmerson Mnangagwa from the government and ruling party for  disloyalty . Mnangagawa was seen as a potential successor.  Formal opposition to Mugabe is limited but the government is wary of social media. Last year, activists including pastor Evan Mawarire used it to organize the #ThisFlag movement. Its stay-at-home demonstration was the biggest protest in a decade. \",\n          \"This is probably the best seen from Judge Jeanine   she nails Obama!  Police brutality is color blind    Judge Jeanine \",\n          \"The New York Post reported: Melania is extremely close to Barron, and they have become closer during the campaign,  said a source close to Trump s transition team.  The campaign has been difficult for Barron, and she is really hoping to keep disruption to a minimum. Another source said Melania Trump will travel to the White House as needed, but that her primary focus is on Barron. Melania is very supportive of her husband and is fully on board of doing everything that s needed as first lady,  said the second source familiar with the Trump transition.That source said also that there is a possibility that Melania and Barron may move to the White House at the end of the school year, but no plans are in place. She is really devoted to Barron,  said a source close to the family, adding that Melania has not relied on nannies to raise the child and is frequently seen picking the fourth-grader up from his prep school, where tuition is north of $40,000.Barron and Melania will each have an unknown number of Secret Service agents assigned to them in addition to a driver and armored vehicle to take Barron to school, Reese said. An advance team of agents will swoop down on the school each morning to make sure it s safe, he added. Read more: NYPBarron and Melania Trump got a taste of what their life will be like when they dropped in to have lunch at a local NYC restaurant. Serafina became a gawker s paradise when the two were spotted with Secret Service in tow:The spotlight was on this family before but will certainly be on them now that they re the First Family.Let s hope that Barron won t be picked apart by the main stream media.He s already receiving attention from around the world Barron has been named a  Manga Idol  in Japan. That means  beautiful boy \"\n        ],\n        \"semantic_type\": \"\",\n        \"description\": \"\"\n      }\n    },\n    {\n      \"column\": \"label\",\n      \"properties\": {\n        \"dtype\": \"number\",\n        \"std\": 0,\n        \"min\": 0,\n        \"max\": 1,\n        \"num_unique_values\": 2,\n        \"samples\": [\n          1,\n          0\n        ],\n        \"semantic_type\": \"\",\n        \"description\": \"\"\n      }\n    },\n    {\n      \"column\": \"subject_Government News\",\n      \"properties\": {\n        \"dtype\": \"boolean\",\n        \"num_unique_values\": 2,\n        \"samples\": [\n          true,\n          false\n        ],\n        \"semantic_type\": \"\",\n        \"description\": \"\"\n      }\n    },\n    {\n      \"column\": \"subject_Middle-east\",\n      \"properties\": {\n        \"dtype\": \"boolean\",\n        \"num_unique_values\": 2,\n        \"samples\": [\n          true,\n          false\n        ],\n        \"semantic_type\": \"\",\n        \"description\": \"\"\n      }\n    },\n    {\n      \"column\": \"subject_News\",\n      \"properties\": {\n        \"dtype\": \"boolean\",\n        \"num_unique_values\": 2,\n        \"samples\": [\n          false,\n          true\n        ],\n        \"semantic_type\": \"\",\n        \"description\": \"\"\n      }\n    },\n    {\n      \"column\": \"subject_US_News\",\n      \"properties\": {\n        \"dtype\": \"boolean\",\n        \"num_unique_values\": 2,\n        \"samples\": [\n          true,\n          false\n        ],\n        \"semantic_type\": \"\",\n        \"description\": \"\"\n      }\n    },\n    {\n      \"column\": \"subject_left-news\",\n      \"properties\": {\n        \"dtype\": \"boolean\",\n        \"num_unique_values\": 2,\n        \"samples\": [\n          true,\n          false\n        ],\n        \"semantic_type\": \"\",\n        \"description\": \"\"\n      }\n    },\n    {\n      \"column\": \"subject_politics\",\n      \"properties\": {\n        \"dtype\": \"boolean\",\n        \"num_unique_values\": 2,\n        \"samples\": [\n          true,\n          false\n        ],\n        \"semantic_type\": \"\",\n        \"description\": \"\"\n      }\n    },\n    {\n      \"column\": \"subject_politicsNews\",\n      \"properties\": {\n        \"dtype\": \"boolean\",\n        \"num_unique_values\": 2,\n        \"samples\": [\n          true,\n          false\n        ],\n        \"semantic_type\": \"\",\n        \"description\": \"\"\n      }\n    },\n    {\n      \"column\": \"subject_worldnews\",\n      \"properties\": {\n        \"dtype\": \"boolean\",\n        \"num_unique_values\": 2,\n        \"samples\": [\n          true,\n          false\n        ],\n        \"semantic_type\": \"\",\n        \"description\": \"\"\n      }\n    }\n  ]\n}"
            }
          },
          "metadata": {},
          "execution_count": 36
        }
      ],
      "source": [
        "data.head()"
      ]
    },
    {
      "cell_type": "code",
      "execution_count": 37,
      "metadata": {
        "execution": {
          "iopub.execute_input": "2020-10-22T13:25:06.993319Z",
          "iopub.status.busy": "2020-10-22T13:25:06.991921Z",
          "iopub.status.idle": "2020-10-22T13:25:07.011501Z",
          "shell.execute_reply": "2020-10-22T13:25:07.012648Z"
        },
        "papermill": {
          "duration": 0.103062,
          "end_time": "2020-10-22T13:25:07.012991",
          "exception": false,
          "start_time": "2020-10-22T13:25:06.909929",
          "status": "completed"
        },
        "tags": [],
        "colab": {
          "base_uri": "https://localhost:8080/"
        },
        "id": "ek0Qg1_Ehts_",
        "outputId": "90d10e4d-8c02-4b03-cff9-33170dc82dc6"
      },
      "outputs": [
        {
          "output_type": "stream",
          "name": "stdout",
          "text": [
            "<class 'pandas.core.frame.DataFrame'>\n",
            "Index: 44898 entries, 3414 to 18981\n",
            "Data columns (total 9 columns):\n",
            " #   Column                   Non-Null Count  Dtype\n",
            "---  ------                   --------------  -----\n",
            " 0   label                    44898 non-null  int64\n",
            " 1   subject_Government News  44898 non-null  bool \n",
            " 2   subject_Middle-east      44898 non-null  bool \n",
            " 3   subject_News             44898 non-null  bool \n",
            " 4   subject_US_News          44898 non-null  bool \n",
            " 5   subject_left-news        44898 non-null  bool \n",
            " 6   subject_politics         44898 non-null  bool \n",
            " 7   subject_politicsNews     44898 non-null  bool \n",
            " 8   subject_worldnews        44898 non-null  bool \n",
            "dtypes: bool(8), int64(1)\n",
            "memory usage: 1.0 MB\n"
          ]
        }
      ],
      "source": [
        "data.drop([\"title\",\"text\"],axis=1,inplace=True)\n",
        "data.info()"
      ]
    },
    {
      "cell_type": "code",
      "execution_count": 38,
      "metadata": {
        "execution": {
          "iopub.execute_input": "2020-10-22T13:25:07.162902Z",
          "iopub.status.busy": "2020-10-22T13:25:07.161827Z",
          "iopub.status.idle": "2020-10-22T13:25:07.168882Z",
          "shell.execute_reply": "2020-10-22T13:25:07.169617Z"
        },
        "papermill": {
          "duration": 0.087527,
          "end_time": "2020-10-22T13:25:07.169863",
          "exception": false,
          "start_time": "2020-10-22T13:25:07.082336",
          "status": "completed"
        },
        "tags": [],
        "colab": {
          "base_uri": "https://localhost:8080/"
        },
        "id": "ayR-5SQThts_",
        "outputId": "b2186eca-6415-4f86-eba6-899798944dc4"
      },
      "outputs": [
        {
          "output_type": "stream",
          "name": "stdout",
          "text": [
            "(44898, 9)\n",
            "(44898, 1000)\n",
            "(44898, 4000)\n"
          ]
        }
      ],
      "source": [
        "print(data.shape)\n",
        "print(title_matrix.shape)\n",
        "print(text_matrix.shape)"
      ]
    },
    {
      "cell_type": "code",
      "execution_count": 40,
      "metadata": {
        "execution": {
          "iopub.execute_input": "2020-10-22T13:25:07.293223Z",
          "iopub.status.busy": "2020-10-22T13:25:07.292330Z",
          "iopub.status.idle": "2020-10-22T13:25:09.288942Z",
          "shell.execute_reply": "2020-10-22T13:25:09.288112Z"
        },
        "papermill": {
          "duration": 2.062523,
          "end_time": "2020-10-22T13:25:09.289101",
          "exception": false,
          "start_time": "2020-10-22T13:25:07.226578",
          "status": "completed"
        },
        "tags": [],
        "id": "SegToJAnhts_"
      },
      "outputs": [],
      "source": [
        "# Creating Y\n",
        "y = data.label\n",
        "# Creating X\n",
        "x = np.concatenate((np.array(data.drop(\"label\",axis=1)),title_matrix,text_matrix),axis=1)"
      ]
    },
    {
      "cell_type": "code",
      "execution_count": 41,
      "metadata": {
        "execution": {
          "iopub.execute_input": "2020-10-22T13:25:09.485680Z",
          "iopub.status.busy": "2020-10-22T13:25:09.484491Z",
          "iopub.status.idle": "2020-10-22T13:25:09.489504Z",
          "shell.execute_reply": "2020-10-22T13:25:09.490606Z"
        },
        "papermill": {
          "duration": 0.059416,
          "end_time": "2020-10-22T13:25:09.490885",
          "exception": false,
          "start_time": "2020-10-22T13:25:09.431469",
          "status": "completed"
        },
        "tags": [],
        "colab": {
          "base_uri": "https://localhost:8080/"
        },
        "id": "Jrc2tW3rhts_",
        "outputId": "9f21cee6-6194-4e71-f8ec-59b6c85bee9b"
      },
      "outputs": [
        {
          "output_type": "stream",
          "name": "stdout",
          "text": [
            "(44898, 5008)\n",
            "(44898,)\n"
          ]
        }
      ],
      "source": [
        "print(x.shape)\n",
        "print(y.shape)"
      ]
    },
    {
      "cell_type": "markdown",
      "metadata": {
        "id": "-_BRFKouhts_"
      },
      "source": [
        "Train test split"
      ]
    },
    {
      "cell_type": "code",
      "execution_count": 42,
      "metadata": {
        "execution": {
          "iopub.execute_input": "2020-10-22T13:25:09.596710Z",
          "iopub.status.busy": "2020-10-22T13:25:09.595872Z",
          "iopub.status.idle": "2020-10-22T13:25:11.184121Z",
          "shell.execute_reply": "2020-10-22T13:25:11.182844Z"
        },
        "papermill": {
          "duration": 1.647102,
          "end_time": "2020-10-22T13:25:11.184369",
          "exception": false,
          "start_time": "2020-10-22T13:25:09.537267",
          "status": "completed"
        },
        "tags": [],
        "colab": {
          "base_uri": "https://localhost:8080/"
        },
        "id": "eO9qHziPhts_",
        "outputId": "02a59508-0896-4f4d-9087-dbda75bdaff1"
      },
      "outputs": [
        {
          "output_type": "stream",
          "name": "stdout",
          "text": [
            "(33673, 5008)\n",
            "(11225, 5008)\n",
            "(33673,)\n",
            "(11225,)\n"
          ]
        }
      ],
      "source": [
        "from sklearn.model_selection import train_test_split\n",
        "\n",
        "# Train Test Split\n",
        "X_train,X_test,Y_train,Y_test = train_test_split(x,np.array(y),test_size=0.25,random_state=1)\n",
        "print(X_train.shape)\n",
        "print(X_test.shape)\n",
        "print(Y_train.shape)\n",
        "print(Y_test.shape)\n"
      ]
    },
    {
      "cell_type": "markdown",
      "metadata": {
        "papermill": {
          "duration": 0.045765,
          "end_time": "2020-10-22T13:25:11.277268",
          "exception": false,
          "start_time": "2020-10-22T13:25:11.231503",
          "status": "completed"
        },
        "tags": [],
        "id": "UbO6qSS-httA"
      },
      "source": [
        "# Model Building"
      ]
    },
    {
      "cell_type": "code",
      "execution_count": 43,
      "metadata": {
        "execution": {
          "iopub.execute_input": "2020-10-22T13:25:11.384792Z",
          "iopub.status.busy": "2020-10-22T13:25:11.381658Z",
          "iopub.status.idle": "2020-10-22T13:25:11.537188Z",
          "shell.execute_reply": "2020-10-22T13:25:11.536506Z"
        },
        "papermill": {
          "duration": 0.215291,
          "end_time": "2020-10-22T13:25:11.537349",
          "exception": false,
          "start_time": "2020-10-22T13:25:11.322058",
          "status": "completed"
        },
        "tags": [],
        "id": "B-B6g1M0httA"
      },
      "outputs": [],
      "source": [
        "class ANN(nn.Module):\n",
        "\n",
        "    def __init__(self):\n",
        "\n",
        "        super(ANN,self).__init__()\n",
        "\n",
        "        self.linear1 = nn.Linear(5008,2000) # IN 5008 OUT 2000\n",
        "        self.relu1 = nn.ReLU() # Actfunc 1\n",
        "\n",
        "        self.linear2 = nn.Linear(2000,500) # IN 2000 OUT 500\n",
        "        self.relu2 = nn.ReLU()\n",
        "\n",
        "        self.linear3 = nn.Linear(500,100) # IN 500 OUT 100\n",
        "        self.relu3 = nn.ReLU()\n",
        "\n",
        "        self.linear4 = nn.Linear(100,20) # IN 100 OUT 20\n",
        "        self.relu4 = nn.ReLU()\n",
        "\n",
        "        self.linear5 = nn.Linear(20,2) # IN 20 OUT 2 | OUTPUT\n",
        "\n",
        "\n",
        "    def forward(self,x):\n",
        "\n",
        "        out = self.linear1(x)\n",
        "        out = self.relu1(out)\n",
        "\n",
        "        out = self.linear2(out)\n",
        "        out = self.relu2(out)\n",
        "\n",
        "        out = self.linear3(out)\n",
        "        out = self.relu3(out)\n",
        "\n",
        "        out = self.linear4(out)\n",
        "        out = self.relu4(out)\n",
        "\n",
        "        out = self.linear5(out)\n",
        "\n",
        "        return out\n",
        "\n",
        "\n",
        "model = ANN()\n",
        "optimizer = torch.optim.Adam(model.parameters(),lr=0.01)\n",
        "error = nn.CrossEntropyLoss()"
      ]
    },
    {
      "cell_type": "code",
      "execution_count": 45,
      "metadata": {
        "execution": {
          "iopub.execute_input": "2020-10-22T13:25:11.823570Z",
          "iopub.status.busy": "2020-10-22T13:25:11.822752Z",
          "iopub.status.idle": "2020-10-22T13:29:38.802313Z",
          "shell.execute_reply": "2020-10-22T13:29:38.803213Z"
        },
        "papermill": {
          "duration": 267.03556,
          "end_time": "2020-10-22T13:29:38.803483",
          "exception": false,
          "start_time": "2020-10-22T13:25:11.767923",
          "status": "completed"
        },
        "tags": [],
        "colab": {
          "base_uri": "https://localhost:8080/"
        },
        "id": "Po7MrW_6httA",
        "outputId": "516154c8-e16a-45e0-babd-2db53649ed94"
      },
      "outputs": [
        {
          "output_type": "stream",
          "name": "stderr",
          "text": [
            "  5%|▌         | 1/20 [00:28<08:55, 28.18s/it]"
          ]
        },
        {
          "output_type": "stream",
          "name": "stdout",
          "text": [
            "Epoch: 0 | Loss: 0.692179262638092\n"
          ]
        },
        {
          "output_type": "stream",
          "name": "stderr",
          "text": [
            "\r 10%|█         | 2/20 [00:55<08:20, 27.79s/it]"
          ]
        },
        {
          "output_type": "stream",
          "name": "stdout",
          "text": [
            "Epoch: 1 | Loss: 2.804656744003296\n"
          ]
        },
        {
          "output_type": "stream",
          "name": "stderr",
          "text": [
            "\r 15%|█▌        | 3/20 [01:22<07:42, 27.21s/it]"
          ]
        },
        {
          "output_type": "stream",
          "name": "stdout",
          "text": [
            "Epoch: 2 | Loss: 3.1433095932006836\n"
          ]
        },
        {
          "output_type": "stream",
          "name": "stderr",
          "text": [
            "\r 20%|██        | 4/20 [01:49<07:13, 27.10s/it]"
          ]
        },
        {
          "output_type": "stream",
          "name": "stdout",
          "text": [
            "Epoch: 3 | Loss: 0.6513966917991638\n"
          ]
        },
        {
          "output_type": "stream",
          "name": "stderr",
          "text": [
            "\r 25%|██▌       | 5/20 [02:16<06:48, 27.26s/it]"
          ]
        },
        {
          "output_type": "stream",
          "name": "stdout",
          "text": [
            "Epoch: 4 | Loss: 0.9555063843727112\n"
          ]
        },
        {
          "output_type": "stream",
          "name": "stderr",
          "text": [
            "\r 30%|███       | 6/20 [02:43<06:18, 27.05s/it]"
          ]
        },
        {
          "output_type": "stream",
          "name": "stdout",
          "text": [
            "Epoch: 5 | Loss: 0.6797621846199036\n"
          ]
        },
        {
          "output_type": "stream",
          "name": "stderr",
          "text": [
            "\r 35%|███▌      | 7/20 [03:10<05:50, 26.96s/it]"
          ]
        },
        {
          "output_type": "stream",
          "name": "stdout",
          "text": [
            "Epoch: 6 | Loss: 0.46343445777893066\n"
          ]
        },
        {
          "output_type": "stream",
          "name": "stderr",
          "text": [
            "\r 40%|████      | 8/20 [03:36<05:22, 26.89s/it]"
          ]
        },
        {
          "output_type": "stream",
          "name": "stdout",
          "text": [
            "Epoch: 7 | Loss: 0.3792567849159241\n"
          ]
        },
        {
          "output_type": "stream",
          "name": "stderr",
          "text": [
            "\r 45%|████▌     | 9/20 [04:05<05:01, 27.42s/it]"
          ]
        },
        {
          "output_type": "stream",
          "name": "stdout",
          "text": [
            "Epoch: 8 | Loss: 0.2316778600215912\n"
          ]
        },
        {
          "output_type": "stream",
          "name": "stderr",
          "text": [
            "\r 50%|█████     | 10/20 [04:32<04:33, 27.34s/it]"
          ]
        },
        {
          "output_type": "stream",
          "name": "stdout",
          "text": [
            "Epoch: 9 | Loss: 0.20112867653369904\n"
          ]
        },
        {
          "output_type": "stream",
          "name": "stderr",
          "text": [
            "\r 55%|█████▌    | 11/20 [04:59<04:05, 27.26s/it]"
          ]
        },
        {
          "output_type": "stream",
          "name": "stdout",
          "text": [
            "Epoch: 10 | Loss: 0.1813017725944519\n"
          ]
        },
        {
          "output_type": "stream",
          "name": "stderr",
          "text": [
            "\r 60%|██████    | 12/20 [05:27<03:38, 27.30s/it]"
          ]
        },
        {
          "output_type": "stream",
          "name": "stdout",
          "text": [
            "Epoch: 11 | Loss: 0.14503878355026245\n"
          ]
        },
        {
          "output_type": "stream",
          "name": "stderr",
          "text": [
            "\r 65%|██████▌   | 13/20 [05:54<03:12, 27.48s/it]"
          ]
        },
        {
          "output_type": "stream",
          "name": "stdout",
          "text": [
            "Epoch: 12 | Loss: 0.11439255625009537\n"
          ]
        },
        {
          "output_type": "stream",
          "name": "stderr",
          "text": [
            "\r 70%|███████   | 14/20 [06:23<02:47, 27.88s/it]"
          ]
        },
        {
          "output_type": "stream",
          "name": "stdout",
          "text": [
            "Epoch: 13 | Loss: 0.07737312465906143\n"
          ]
        },
        {
          "output_type": "stream",
          "name": "stderr",
          "text": [
            "\r 75%|███████▌  | 15/20 [06:51<02:18, 27.74s/it]"
          ]
        },
        {
          "output_type": "stream",
          "name": "stdout",
          "text": [
            "Epoch: 14 | Loss: 0.05317269265651703\n"
          ]
        },
        {
          "output_type": "stream",
          "name": "stderr",
          "text": [
            "\r 80%|████████  | 16/20 [07:18<01:50, 27.55s/it]"
          ]
        },
        {
          "output_type": "stream",
          "name": "stdout",
          "text": [
            "Epoch: 15 | Loss: 0.0410490483045578\n"
          ]
        },
        {
          "output_type": "stream",
          "name": "stderr",
          "text": [
            "\r 85%|████████▌ | 17/20 [07:45<01:22, 27.40s/it]"
          ]
        },
        {
          "output_type": "stream",
          "name": "stdout",
          "text": [
            "Epoch: 16 | Loss: 0.03756999596953392\n"
          ]
        },
        {
          "output_type": "stream",
          "name": "stderr",
          "text": [
            "\r 90%|█████████ | 18/20 [08:12<00:54, 27.29s/it]"
          ]
        },
        {
          "output_type": "stream",
          "name": "stdout",
          "text": [
            "Epoch: 17 | Loss: 0.03811690956354141\n"
          ]
        },
        {
          "output_type": "stream",
          "name": "stderr",
          "text": [
            "\r 95%|█████████▌| 19/20 [08:39<00:27, 27.25s/it]"
          ]
        },
        {
          "output_type": "stream",
          "name": "stdout",
          "text": [
            "Epoch: 18 | Loss: 0.031285788863897324\n"
          ]
        },
        {
          "output_type": "stream",
          "name": "stderr",
          "text": [
            "100%|██████████| 20/20 [09:06<00:00, 27.34s/it]"
          ]
        },
        {
          "output_type": "stream",
          "name": "stdout",
          "text": [
            "Epoch: 19 | Loss: 0.022103019058704376\n"
          ]
        },
        {
          "output_type": "stream",
          "name": "stderr",
          "text": [
            "\n"
          ]
        }
      ],
      "source": [
        "X_train = torch.Tensor(X_train)\n",
        "Y_train = torch.Tensor(Y_train).type(torch.LongTensor)\n",
        "\n",
        "X_test = torch.Tensor(X_test)\n",
        "Y_test = torch.Tensor(Y_test)\n",
        "\n",
        "EPOCHS = 20\n",
        "\n",
        "for epoch in tqdm(range(EPOCHS)):\n",
        "    outs = model(X_train)\n",
        "    loss = error(outs,Y_train)\n",
        "    optimizer.zero_grad()\n",
        "    loss.backward()\n",
        "    optimizer.step()\n",
        "    print(f\"Epoch: {epoch} | Loss: {loss}\")"
      ]
    },
    {
      "cell_type": "markdown",
      "metadata": {
        "papermill": {
          "duration": 0.052762,
          "end_time": "2020-10-22T13:29:38.914634",
          "exception": false,
          "start_time": "2020-10-22T13:29:38.861872",
          "status": "completed"
        },
        "tags": [],
        "id": "2ujMXVfohttA"
      },
      "source": [
        "# Evaulating Results"
      ]
    },
    {
      "cell_type": "code",
      "execution_count": 46,
      "metadata": {
        "execution": {
          "iopub.execute_input": "2020-10-22T13:29:39.032029Z",
          "iopub.status.busy": "2020-10-22T13:29:39.030838Z",
          "iopub.status.idle": "2020-10-22T13:29:41.545944Z",
          "shell.execute_reply": "2020-10-22T13:29:41.544260Z"
        },
        "papermill": {
          "duration": 2.57732,
          "end_time": "2020-10-22T13:29:41.546100",
          "exception": false,
          "start_time": "2020-10-22T13:29:38.968780",
          "status": "completed"
        },
        "tags": [],
        "colab": {
          "base_uri": "https://localhost:8080/"
        },
        "id": "wr8Uyhf0httA",
        "outputId": "04b8f0c2-09ab-4bd8-d6b9-232a8ce8541e"
      },
      "outputs": [
        {
          "output_type": "stream",
          "name": "stdout",
          "text": [
            "tensor([-4.1374, 15.4372], grad_fn=<SelectBackward0>)\n",
            "tensor(1)\n",
            "Accuracy:  0.9903786191536749\n"
          ]
        }
      ],
      "source": [
        "from sklearn.metrics import accuracy_score,confusion_matrix\n",
        "\n",
        "y_head = model(X_test)\n",
        "print(y_head[0])\n",
        "y_pred = torch.max(y_head,1)[1]\n",
        "print(y_pred[0])\n",
        "\n",
        "# Accuracy score\n",
        "print(\"Accuracy: \",accuracy_score(y_pred,Y_test))\n"
      ]
    },
    {
      "cell_type": "markdown",
      "metadata": {
        "papermill": {
          "duration": 0.053075,
          "end_time": "2020-10-22T13:29:41.656910",
          "exception": false,
          "start_time": "2020-10-22T13:29:41.603835",
          "status": "completed"
        },
        "tags": [],
        "id": "rhLlsyyfhttB"
      },
      "source": [
        "Confusion matrix"
      ]
    },
    {
      "cell_type": "code",
      "execution_count": 47,
      "metadata": {
        "execution": {
          "iopub.execute_input": "2020-10-22T13:29:41.775471Z",
          "iopub.status.busy": "2020-10-22T13:29:41.774267Z",
          "iopub.status.idle": "2020-10-22T13:29:42.054117Z",
          "shell.execute_reply": "2020-10-22T13:29:42.053399Z"
        },
        "papermill": {
          "duration": 0.343918,
          "end_time": "2020-10-22T13:29:42.054287",
          "exception": false,
          "start_time": "2020-10-22T13:29:41.710369",
          "status": "completed"
        },
        "tags": [],
        "colab": {
          "base_uri": "https://localhost:8080/",
          "height": 522
        },
        "id": "kKyt7BFChttB",
        "outputId": "06cf59c2-8592-475b-dd82-0108f12654b6"
      },
      "outputs": [
        {
          "output_type": "display_data",
          "data": {
            "text/plain": [
              "<Figure size 600x600 with 2 Axes>"
            ],
            "image/png": "[encoded data removed]"
          },
          "metadata": {}
        }
      ],
      "source": [
        "confusion_matrix = confusion_matrix(y_pred=y_pred,y_true=Y_test)\n",
        "\n",
        "fig,ax = plt.subplots(figsize=(6,6))\n",
        "sns.heatmap(confusion_matrix,annot=True,fmt=\"0.1f\",linewidths=1.5)\n",
        "plt.show()"
      ]
    },
    {
      "cell_type": "code",
      "source": [],
      "metadata": {
        "id": "2SsTMM1vkP-O"
      },
      "execution_count": null,
      "outputs": []
    }
  ],
  "metadata": {
    "kernelspec": {
      "display_name": "Python 3",
      "language": "python",
      "name": "python3"
    },
    "language_info": {
      "codemirror_mode": {
        "name": "ipython",
        "version": 3
      },
      "file_extension": ".py",
      "mimetype": "text/x-python",
      "name": "python",
      "nbconvert_exporter": "python",
      "pygments_lexer": "ipython3",
      "version": "3.10.16"
    },
    "papermill": {
      "duration": 655.199052,
      "end_time": "2020-10-22T13:29:42.538242",
      "environment_variables": {},
      "exception": null,
      "input_path": "__notebook__.ipynb",
      "output_path": "__notebook__.ipynb",
      "parameters": {},
      "start_time": "2020-10-22T13:18:47.339190",
      "version": "2.1.0"
    },
    "colab": {
      "provenance": []
    }
  },
  "nbformat": 4,
  "nbformat_minor": 0
}